{
 "cells": [
  {
   "cell_type": "code",
   "execution_count": 1,
   "metadata": {},
   "outputs": [
    {
     "data": {
      "text/plain": [
       "' 제 1고지 미분 자동 계산 '"
      ]
     },
     "execution_count": 1,
     "metadata": {},
     "output_type": "execute_result"
    }
   ],
   "source": [
    "\"\"\" 제 1고지 미분 자동 계산 \"\"\""
   ]
  },
  {
   "cell_type": "code",
   "execution_count": 2,
   "metadata": {},
   "outputs": [],
   "source": [
    "\"\"\" STEP7. 역전파 자동화 \"\"\"\n",
    "\n",
    "\n",
    "# Variable이라는 상자 생성\n",
    "class Variable:\n",
    "    def __init__(self, data): # 생성자\n",
    "        self.data = data\n",
    "        self.grad = None # 미분값 저장하기 위한 변수\n",
    "\n",
    "        # 변수(Variable)가 어떤 연산에 의해 생성되었는지를 나타내는 속성\n",
    "        self.creator = None # 연산을 나타내는 객체\n",
    "\n",
    "    # 해당 변수가 어떤 함수에 의해 만들어졌는지를 저장\n",
    "    def set_creator(self, func):\n",
    "        self.creator = func"
   ]
  },
  {
   "cell_type": "code",
   "execution_count": 3,
   "metadata": {},
   "outputs": [],
   "source": [
    "# Variable 인스턴스를 변수로 다룰 수 있는 함수를 Function클래스로 구현\n",
    "class Function:\n",
    "    def __call__(self, input):\n",
    "        x = input.data # 데이터를 꺼냄\n",
    "        y = self.forward(x) # 구체적인 계산 == forward 메서드에서 함\n",
    "        output = Variable(y)  # Variable 형태로 되돌림\n",
    "        output.set_creator(self) # 출력 변수에 창조자 설정\n",
    "        self.input = input # 입력 저장\n",
    "        self.output = output # 출력 저장\n",
    "        return output\n",
    "    \n",
    "    # 순전파\n",
    "    def forward(self, x):\n",
    "        raise NotImplementedError()\n",
    "    \n",
    "    # 역전파\n",
    "    def backward(self, gy):\n",
    "        raise NotImplementedError()"
   ]
  },
  {
   "cell_type": "code",
   "execution_count": 4,
   "metadata": {},
   "outputs": [],
   "source": [
    "# y = x²\n",
    "class Square(Function):\n",
    "    # 순전파\n",
    "    def forward(self, x):\n",
    "        y = x ** 2 # y = x²\n",
    "        return y\n",
    "    \n",
    "    # 역전파\n",
    "    def backward(self, gy): # gy = 출력쪽에 전해지는 미분값을 전달하는 역할\n",
    "        x = self.input.data\n",
    "        gx = 2 * x * gy #  y' = 2x\n",
    "        return gx"
   ]
  },
  {
   "cell_type": "code",
   "execution_count": 5,
   "metadata": {},
   "outputs": [],
   "source": [
    "import numpy as np\n",
    "\n",
    "# y = eˣ\n",
    "class Exp(Function):\n",
    "    # 순전파\n",
    "    def forward(self, x):\n",
    "        y = np.exp(x) # 주어진 입력값에 대한 지수 함수를 계산하여 반환\n",
    "        return y\n",
    "    \n",
    "    # 역전파\n",
    "    def backward(self, gy):\n",
    "        x = self.input.data\n",
    "        \"\"\" 지수 함수의 도함수는 자기 자신을 유지하므로 \n",
    "            입력값의 지수 함수 값에 gy를 곱함 \"\"\"\n",
    "        gx = np.exp(x) * gy\n",
    "        return gx"
   ]
  },
  {
   "cell_type": "code",
   "execution_count": 6,
   "metadata": {},
   "outputs": [],
   "source": [
    "# 합성함수 y = (eˣ²)²\n",
    "A = Square()\n",
    "B = Exp()\n",
    "C = Square()\n",
    "\n",
    "# 순전파\n",
    "x = Variable(np.array(0.5))\n",
    "a = A(x) # x ** 2\n",
    "b = B(a) # e ** a\n",
    "y = C(b) # b ** 2\n",
    "\n",
    "# 계산 그래프의 노드들을 거꾸로 거슬러 올라감\n",
    "assert y.creator == C\n",
    "assert y.creator.input == b\n",
    "assert y.creator.input.creator == B\n",
    "assert y.creator.input.creator.input == a\n",
    "assert y.creator.input.creator.input.creator == A\n",
    "assert y.creator.input.creator.input.creator.input == x"
   ]
  },
  {
   "cell_type": "code",
   "execution_count": 7,
   "metadata": {},
   "outputs": [],
   "source": [
    "# 역전파\n",
    "y.grad = np.array(1.0)\n",
    "\n",
    "C = y.creator # 1. 함수를 가져온다.\n",
    "b = C.input # 2. 함수의 입력을 가져온다.\n",
    "b.grad = C.backward(y.grad) # 3. 함수의 backward 메서드를 호출한다."
   ]
  },
  {
   "cell_type": "code",
   "execution_count": 8,
   "metadata": {},
   "outputs": [],
   "source": [
    "B = b.creator # 1. 함수를 가져온다.\n",
    "a = B.input # 2. 함수의 입력을 가져온다.\n",
    "a.grad = B.backward(b.grad) # 3. 함수의 backward 메서드를 호술한다."
   ]
  },
  {
   "cell_type": "code",
   "execution_count": 9,
   "metadata": {},
   "outputs": [
    {
     "name": "stdout",
     "output_type": "stream",
     "text": [
      "3.297442541400256\n"
     ]
    }
   ],
   "source": [
    "A = a.creator # 1. 함수를 가져온다.\n",
    "x = A.input # 함수의 입력을 가져온다.\n",
    "x.grad = A.backward(a.grad) # 함수의 backward 메서드를 호출한다.\n",
    "print(x.grad)"
   ]
  }
 ],
 "metadata": {
  "kernelspec": {
   "display_name": "school",
   "language": "python",
   "name": "python3"
  },
  "language_info": {
   "codemirror_mode": {
    "name": "ipython",
    "version": 3
   },
   "file_extension": ".py",
   "mimetype": "text/x-python",
   "name": "python",
   "nbconvert_exporter": "python",
   "pygments_lexer": "ipython3",
   "version": "3.12.2"
  }
 },
 "nbformat": 4,
 "nbformat_minor": 2
}

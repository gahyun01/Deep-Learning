{
 "cells": [
  {
   "cell_type": "code",
   "execution_count": 1,
   "metadata": {},
   "outputs": [
    {
     "data": {
      "text/plain": [
       "' 제 2고지 자연스러운 코드로 '"
      ]
     },
     "execution_count": 1,
     "metadata": {},
     "output_type": "execute_result"
    }
   ],
   "source": [
    "\"\"\" 제 2고지 자연스러운 코드로 \"\"\""
   ]
  },
  {
   "cell_type": "code",
   "execution_count": 2,
   "metadata": {},
   "outputs": [
    {
     "name": "stdout",
     "output_type": "stream",
     "text": [
      "variable(1.0)\n"
     ]
    }
   ],
   "source": [
    "\"\"\" STEP23. 패키지로 정리 \"\"\"\n",
    "import numpy as np\n",
    "from dezero.core_simple import Variable\n",
    "\n",
    "x = Variable(np.array(1.0))\n",
    "print(x)"
   ]
  },
  {
   "cell_type": "code",
   "execution_count": 3,
   "metadata": {},
   "outputs": [],
   "source": [
    "# dezero를 이용하는 사용자의 코드\n",
    "\n",
    "# from dezero.core_simple import Variable\n",
    "from dezero import Variable"
   ]
  },
  {
   "cell_type": "code",
   "execution_count": 4,
   "metadata": {},
   "outputs": [
    {
     "name": "stdout",
     "output_type": "stream",
     "text": [
      "variable(16.0)\n",
      "8.0\n"
     ]
    }
   ],
   "source": [
    "if '__file__' in globals():\n",
    "    import os, sys\n",
    "    sys.path.append(os.path.join(os.path.dirname(__file__), '..'))\n",
    "\n",
    "import numpy as np\n",
    "from dezero import Variable\n",
    "\n",
    "x = Variable(np.array(1.0))\n",
    "y = (x + 3) ** 2\n",
    "y.backward()\n",
    "\n",
    "print(y)\n",
    "print(x.grad)"
   ]
  }
 ],
 "metadata": {
  "kernelspec": {
   "display_name": "school",
   "language": "python",
   "name": "python3"
  },
  "language_info": {
   "codemirror_mode": {
    "name": "ipython",
    "version": 3
   },
   "file_extension": ".py",
   "mimetype": "text/x-python",
   "name": "python",
   "nbconvert_exporter": "python",
   "pygments_lexer": "ipython3",
   "version": "3.12.2"
  }
 },
 "nbformat": 4,
 "nbformat_minor": 2
}

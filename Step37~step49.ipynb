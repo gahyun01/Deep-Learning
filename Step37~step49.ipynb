{
 "cells": [
  {
   "cell_type": "markdown",
   "metadata": {},
   "source": [
    "# 제 4고지 신경망 만들기"
   ]
  },
  {
   "cell_type": "markdown",
   "metadata": {},
   "source": [
    "##### STEP37. 텐서를 다루다"
   ]
  },
  {
   "cell_type": "code",
   "execution_count": 1,
   "metadata": {},
   "outputs": [
    {
     "name": "stdout",
     "output_type": "stream",
     "text": [
      "variable(231)\n"
     ]
    }
   ],
   "source": [
    "import numpy as np\n",
    "from dezero import Variable\n",
    "import dezero.functions as F\n",
    "\n",
    "x = Variable(np.array([[1, 2, 3], [4, 5, 6]]))\n",
    "c = Variable(np.array([[10, 20, 30], [40, 50, 60]]))\n",
    "t = x + c\n",
    "y = F.sum(t)\n",
    "print(y)"
   ]
  },
  {
   "cell_type": "code",
   "execution_count": 2,
   "metadata": {},
   "outputs": [
    {
     "name": "stdout",
     "output_type": "stream",
     "text": [
      "variable([[ 0.84147098  0.90929743  0.14112001]\n",
      "          [-0.7568025  -0.95892427 -0.2794155 ]])\n"
     ]
    }
   ],
   "source": [
    "x = Variable(np.array([[1, 2, 3], [4, 5, 6]]))\n",
    "y = F.sin(x)\n",
    "print(y)"
   ]
  },
  {
   "cell_type": "code",
   "execution_count": 3,
   "metadata": {},
   "outputs": [
    {
     "name": "stdout",
     "output_type": "stream",
     "text": [
      "variable([[11 22 33]\n",
      "          [44 55 66]])\n"
     ]
    }
   ],
   "source": [
    "x = Variable(np.array([[1, 2, 3], [4, 5, 6]]))\n",
    "c = Variable(np.array([[10, 20, 30], [40, 50, 60]]))\n",
    "y = x + c\n",
    "print(y)"
   ]
  },
  {
   "cell_type": "code",
   "execution_count": 4,
   "metadata": {},
   "outputs": [
    {
     "name": "stdout",
     "output_type": "stream",
     "text": [
      "variable(231)\n"
     ]
    }
   ],
   "source": [
    "x = Variable(np.array([[1, 2, 3], [4, 5, 6]]))\n",
    "c = Variable(np.array([[10, 20, 30], [40, 50, 60]]))\n",
    "t = x + c\n",
    "y = F.sum(t)\n",
    "print(y)"
   ]
  },
  {
   "cell_type": "code",
   "execution_count": 5,
   "metadata": {},
   "outputs": [
    {
     "name": "stdout",
     "output_type": "stream",
     "text": [
      "variable(1)\n",
      "variable([[1 1 1]\n",
      "          [1 1 1]])\n",
      "variable([[1 1 1]\n",
      "          [1 1 1]])\n",
      "variable([[1 1 1]\n",
      "          [1 1 1]])\n"
     ]
    }
   ],
   "source": [
    "y.backward(retain_grad=True)   # 미분값 유지\n",
    "print(y.grad)\n",
    "print(t.grad)\n",
    "print(x.grad)\n",
    "print(c.grad)"
   ]
  },
  {
   "cell_type": "markdown",
   "metadata": {},
   "source": [
    "##### STEP38. 형상 변환 함수"
   ]
  },
  {
   "cell_type": "code",
   "execution_count": 6,
   "metadata": {},
   "outputs": [
    {
     "name": "stdout",
     "output_type": "stream",
     "text": [
      "[1 2 3 4 5 6]\n"
     ]
    }
   ],
   "source": [
    "x = np.array([[1, 2, 3], [4, 5, 6]])\n",
    "y = np.reshape(x, 6)\n",
    "print(y)"
   ]
  },
  {
   "cell_type": "code",
   "execution_count": 7,
   "metadata": {},
   "outputs": [],
   "source": [
    "from dezero import Function\n",
    "\n",
    "class Reshape(Function):\n",
    "    def __init__(self, shape):\n",
    "        self.shape = shape\n",
    "\n",
    "    def forward(self, x):\n",
    "        self.x_shape = x.shape # 핵심\n",
    "        y = x.reshape(self.shape)\n",
    "        return y\n",
    "    \n",
    "    def backward(self, gy):\n",
    "        return reshape(gy, self.x_shape)"
   ]
  },
  {
   "cell_type": "code",
   "execution_count": 8,
   "metadata": {},
   "outputs": [],
   "source": [
    "from dezero.core import as_variable\n",
    "\n",
    "def reshape(x, shape):\n",
    "    if x.shape == shape:\n",
    "        return as_variable(x)\n",
    "    return Reshape(shape)(x)"
   ]
  },
  {
   "cell_type": "code",
   "execution_count": 9,
   "metadata": {},
   "outputs": [
    {
     "name": "stdout",
     "output_type": "stream",
     "text": [
      "variable([[1 1 1]\n",
      "          [1 1 1]])\n"
     ]
    }
   ],
   "source": [
    "x = Variable(np.array([[1, 2, 3], [4, 5, 6]]))\n",
    "y = F.reshape(x, (6,))\n",
    "y.backward(retain_grad=True)\n",
    "print(x.grad)"
   ]
  },
  {
   "cell_type": "code",
   "execution_count": 10,
   "metadata": {},
   "outputs": [],
   "source": [
    "x = np.random.rand(1, 2, 3)\n",
    "\n",
    "y = x.reshape((2, 3)) # 튜플로 받기\n",
    "y = x.reshape([2, 3]) # 리스트로 받기\n",
    "y = x.reshape(2, 3) # 인수로 그대로 ( 풀어서 ) 받기"
   ]
  },
  {
   "cell_type": "code",
   "execution_count": 11,
   "metadata": {},
   "outputs": [],
   "source": [
    "import dezero\n",
    "\n",
    "class Variable:\n",
    "    __array_priority__ = 200\n",
    "\n",
    "    def __init__(self, data, name=None):\n",
    "        if data is not None:\n",
    "            if not isinstance(data, np.ndarray):\n",
    "                raise TypeError('{} is not supported'.format(type(data)))\n",
    "\n",
    "        self.data = data # 변수의 데이터를 입력 데이터로 설정\n",
    "        self.name = name # 변수 이름 저장\n",
    "        self.grad = None # 미분값 저장\n",
    "        self.creator = None # 연산을 나타내는 객체\n",
    "        self.generation = 0 # 세대 수 기록\n",
    "\n",
    "    @property\n",
    "    def shape(self): # 다차원 배열의 형상\n",
    "        return self.data.shape\n",
    "\n",
    "    @property\n",
    "    def ndim(self): # 차원 수\n",
    "        return self.data.ndim\n",
    "\n",
    "    @property\n",
    "    def size(self): # 원소 수\n",
    "        return self.data.size\n",
    "\n",
    "    @property\n",
    "    def dtype(self): # 데이터 타입\n",
    "        return self.data.dtype\n",
    "\n",
    "    def __len__(self): # 객체 수\n",
    "        return len(self.data)\n",
    "\n",
    "    def __repr__(self): # 출력 설정\n",
    "        if self.data is None:\n",
    "            return 'variable(None)'\n",
    "        p = str(self.data).replace('\\n', '\\n' + ' ' * 9)\n",
    "        return 'variable(' + p + ')'\n",
    "\n",
    "    def set_creator(self, func):\n",
    "        self.creator = func\n",
    "        # 세대를 기록함 ( 부모 세대 + 1)\n",
    "        self.generation = func.generation + 1\n",
    "\n",
    "    def cleargrad(self):\n",
    "        self.grad = None\n",
    "\n",
    "    # retain_grad=False : 중간  변수의 미분값을모두 None으로 재설정\n",
    "    def backward(self, retain_grad=False, create_graph=False):\n",
    "        # y.grad = np.array(1.0) 생략을 위한 if문\n",
    "        if self.grad is None:\n",
    "            \"\"\" Variable 인스턴스 참조 \"\"\"\n",
    "            self.grad = Variable(np.ones_like(self.data))\n",
    "\n",
    "        funcs = []\n",
    "        seen_set = set()\n",
    "\n",
    "        def add_func(f):\n",
    "            if f not in seen_set:\n",
    "                funcs.append(f)\n",
    "                seen_set.add(f)\n",
    "                funcs.sort(key=lambda x: x.generation)\n",
    "\n",
    "        add_func(self.creator)\n",
    "\n",
    "        while funcs:\n",
    "            f = funcs.pop()# 함수를 가져온다.\n",
    "            gys = [output().grad for output in f.outputs]  # output is weakref\n",
    "            gxs = f.backward(*gys) # 함수 f의 역전파 호출 ( 리스트 언팩 )\n",
    "\n",
    "            with using_config('enable_backprop', create_graph):\n",
    "                \"\"\" 메인 backward \"\"\"\n",
    "                gxs = f.backward(*gys)\n",
    "                \n",
    "                # gxs가 튜플이 아니라면 튜플로 변환\n",
    "                if not isinstance(gxs, tuple):\n",
    "                    gxs = (gxs,)\n",
    "\n",
    "                # 역전파로 전파되는 미분값을 Variable인스턴스 변수 grad에 저장\n",
    "                for x, gx in zip(f.inputs, gxs):\n",
    "                    if x.grad is None:\n",
    "                        x.grad = gx\n",
    "                    else:\n",
    "                        x.grad = x.grad + gx\n",
    "\n",
    "                    if x.creator is not None:\n",
    "                        add_func(x.creator)\n",
    "\n",
    "            # 중간 미분값 없앰\n",
    "            if not retain_grad:\n",
    "                for y in f.outputs:\n",
    "                    y().grad = None  # y is weakref <- 약한 참조\n",
    "\n",
    "    def reshape(self, *shape):\n",
    "        if len(shape) == 1 and isinstance(shape[0], (tuple, list)):\n",
    "            shape = shape[0]\n",
    "        return dezero.functions.reshape(self, shape)"
   ]
  },
  {
   "cell_type": "code",
   "execution_count": 12,
   "metadata": {},
   "outputs": [],
   "source": [
    "from dezero.core import Variable\n",
    "\n",
    "x = Variable(np.random.randn(1, 2, 3))\n",
    "y = x.reshape((2, 3))\n",
    "y = x.reshape(2, 3)"
   ]
  },
  {
   "cell_type": "code",
   "execution_count": 13,
   "metadata": {},
   "outputs": [
    {
     "name": "stdout",
     "output_type": "stream",
     "text": [
      "[[1 4]\n",
      " [2 5]\n",
      " [3 6]]\n"
     ]
    }
   ],
   "source": [
    "x = np.array([[1, 2, 3], [4, 5, 6]])\n",
    "y = np.transpose(x)\n",
    "print(y)"
   ]
  },
  {
   "cell_type": "code",
   "execution_count": 14,
   "metadata": {},
   "outputs": [],
   "source": [
    "class Transpose(Function):\n",
    "    def forward(self, x):\n",
    "        y = np.transpose(x)\n",
    "        return y\n",
    "    \n",
    "    def backward(self, gy):\n",
    "        gx = transpose(gy)\n",
    "        return gx\n",
    "    \n",
    "def transpose(x):\n",
    "    return Transpose()(x)"
   ]
  },
  {
   "cell_type": "code",
   "execution_count": 15,
   "metadata": {},
   "outputs": [
    {
     "name": "stdout",
     "output_type": "stream",
     "text": [
      "variable([[1 1 1]\n",
      "          [1 1 1]])\n"
     ]
    }
   ],
   "source": [
    "x = Variable(np.array([[1, 2, 3], [4, 5, 6]]))\n",
    "y = F.transpose(x)\n",
    "y.backward()\n",
    "print(x.grad)"
   ]
  },
  {
   "cell_type": "code",
   "execution_count": 16,
   "metadata": {},
   "outputs": [],
   "source": [
    "import dezero\n",
    "\n",
    "class Variable:\n",
    "    __array_priority__ = 200\n",
    "\n",
    "    def __init__(self, data, name=None):\n",
    "        if data is not None:\n",
    "            if not isinstance(data, np.ndarray):\n",
    "                raise TypeError('{} is not supported'.format(type(data)))\n",
    "\n",
    "        self.data = data # 변수의 데이터를 입력 데이터로 설정\n",
    "        self.name = name # 변수 이름 저장\n",
    "        self.grad = None # 미분값 저장\n",
    "        self.creator = None # 연산을 나타내는 객체\n",
    "        self.generation = 0 # 세대 수 기록\n",
    "\n",
    "    @property\n",
    "    def shape(self): # 다차원 배열의 형상\n",
    "        return self.data.shape\n",
    "\n",
    "    @property\n",
    "    def ndim(self): # 차원 수\n",
    "        return self.data.ndim\n",
    "\n",
    "    @property\n",
    "    def size(self): # 원소 수\n",
    "        return self.data.size\n",
    "\n",
    "    @property\n",
    "    def dtype(self): # 데이터 타입\n",
    "        return self.data.dtype\n",
    "\n",
    "    def __len__(self): # 객체 수\n",
    "        return len(self.data)\n",
    "\n",
    "    def __repr__(self): # 출력 설정\n",
    "        if self.data is None:\n",
    "            return 'variable(None)'\n",
    "        p = str(self.data).replace('\\n', '\\n' + ' ' * 9)\n",
    "        return 'variable(' + p + ')'\n",
    "\n",
    "    def set_creator(self, func):\n",
    "        self.creator = func\n",
    "        # 세대를 기록함 ( 부모 세대 + 1)\n",
    "        self.generation = func.generation + 1\n",
    "\n",
    "    def cleargrad(self):\n",
    "        self.grad = None\n",
    "\n",
    "    # retain_grad=False : 중간  변수의 미분값을모두 None으로 재설정\n",
    "    def backward(self, retain_grad=False, create_graph=False):\n",
    "        # y.grad = np.array(1.0) 생략을 위한 if문\n",
    "        if self.grad is None:\n",
    "            \"\"\" Variable 인스턴스 참조 \"\"\"\n",
    "            self.grad = Variable(np.ones_like(self.data))\n",
    "\n",
    "        funcs = []\n",
    "        seen_set = set()\n",
    "\n",
    "        def add_func(f):\n",
    "            if f not in seen_set:\n",
    "                funcs.append(f)\n",
    "                seen_set.add(f)\n",
    "                funcs.sort(key=lambda x: x.generation)\n",
    "\n",
    "        add_func(self.creator)\n",
    "\n",
    "        while funcs:\n",
    "            f = funcs.pop()# 함수를 가져온다.\n",
    "            gys = [output().grad for output in f.outputs]  # output is weakref\n",
    "            gxs = f.backward(*gys) # 함수 f의 역전파 호출 ( 리스트 언팩 )\n",
    "\n",
    "            with using_config('enable_backprop', create_graph):\n",
    "                \"\"\" 메인 backward \"\"\"\n",
    "                gxs = f.backward(*gys)\n",
    "                \n",
    "                # gxs가 튜플이 아니라면 튜플로 변환\n",
    "                if not isinstance(gxs, tuple):\n",
    "                    gxs = (gxs,)\n",
    "\n",
    "                # 역전파로 전파되는 미분값을 Variable인스턴스 변수 grad에 저장\n",
    "                for x, gx in zip(f.inputs, gxs):\n",
    "                    if x.grad is None:\n",
    "                        x.grad = gx\n",
    "                    else:\n",
    "                        x.grad = x.grad + gx\n",
    "\n",
    "                    if x.creator is not None:\n",
    "                        add_func(x.creator)\n",
    "\n",
    "            # 중간 미분값 없앰\n",
    "            if not retain_grad:\n",
    "                for y in f.outputs:\n",
    "                    y().grad = None  # y is weakref <- 약한 참조\n",
    "\n",
    "    def reshape(self, *shape):\n",
    "        if len(shape) == 1 and isinstance(shape[0], (tuple, list)):\n",
    "            shape = shape[0]\n",
    "        return dezero.functions.reshape(self, shape)\n",
    "    \n",
    "    def transpose(self):\n",
    "        return dezero.functions.transpose(self)\n",
    "    \n",
    "    @property\n",
    "    def T(self):\n",
    "        return dezero.functions.transpose(self)"
   ]
  },
  {
   "cell_type": "code",
   "execution_count": 17,
   "metadata": {},
   "outputs": [
    {
     "name": "stdout",
     "output_type": "stream",
     "text": [
      "variable([[0.74112545 0.54285673]\n",
      "          [0.4346437  0.11963681]\n",
      "          [0.72927371 0.40421601]])\n"
     ]
    }
   ],
   "source": [
    "from dezero.core import Variable\n",
    "\n",
    "x = Variable(np.random.rand(2, 3))\n",
    "y = x.transpose()\n",
    "y = x.T\n",
    "print(y)"
   ]
  },
  {
   "cell_type": "code",
   "execution_count": 18,
   "metadata": {},
   "outputs": [],
   "source": [
    "A, B, C, D = 1, 2, 3, 4\n",
    "x = np.random.rand(A, B, C, D)\n",
    "y = x.transpose(1, 0, 3, 2)"
   ]
  },
  {
   "cell_type": "markdown",
   "metadata": {},
   "source": [
    "##### STEP39. 합계 함수"
   ]
  },
  {
   "cell_type": "code",
   "execution_count": 19,
   "metadata": {},
   "outputs": [],
   "source": [
    "class Sum(Function):\n",
    "    def forward(self, x):\n",
    "        self.x_shape = x.shape\n",
    "        y = x.sum()\n",
    "        return y\n",
    "    \n",
    "    def backward(self, gy):\n",
    "        gx = broadcast_to(gy, self.x_shape)\n",
    "        return gx\n",
    "    \n",
    "def sum(x):\n",
    "    return Sum()(x)"
   ]
  },
  {
   "cell_type": "code",
   "execution_count": 20,
   "metadata": {},
   "outputs": [
    {
     "name": "stdout",
     "output_type": "stream",
     "text": [
      "variable(21)\n",
      "variable([1 1 1 1 1 1])\n"
     ]
    }
   ],
   "source": [
    "x = Variable(np.array([1, 2, 3, 4, 5, 6]))\n",
    "y = F.sum(x)\n",
    "y.backward()\n",
    "print(y)\n",
    "print(x.grad)"
   ]
  },
  {
   "cell_type": "code",
   "execution_count": 21,
   "metadata": {},
   "outputs": [
    {
     "name": "stdout",
     "output_type": "stream",
     "text": [
      "variable(21)\n",
      "variable([[1 1 1]\n",
      "          [1 1 1]])\n"
     ]
    }
   ],
   "source": [
    "x = Variable(np.array([[1, 2, 3], [4, 5, 6]]))\n",
    "y = F.sum(x)\n",
    "y.backward()\n",
    "print(y)\n",
    "print(x.grad)"
   ]
  },
  {
   "cell_type": "code",
   "execution_count": 22,
   "metadata": {},
   "outputs": [
    {
     "name": "stdout",
     "output_type": "stream",
     "text": [
      "[5 7 9]\n",
      "(2, 3)  ->  (3,)\n"
     ]
    }
   ],
   "source": [
    "x = np.array([[1, 2, 3], [4, 5, 6]])\n",
    "y = np.sum(x, axis=0)\n",
    "print(y)\n",
    "print(x.shape, ' -> ', y.shape)"
   ]
  },
  {
   "cell_type": "code",
   "execution_count": 23,
   "metadata": {},
   "outputs": [
    {
     "name": "stdout",
     "output_type": "stream",
     "text": [
      "[[21]]\n",
      "(1, 1)\n"
     ]
    }
   ],
   "source": [
    "x = np.array([[1, 2, 3], [4, 5, 6]])\n",
    "y = np.sum(x, keepdims=True)\n",
    "print(y)\n",
    "print(y.shape)"
   ]
  },
  {
   "cell_type": "code",
   "execution_count": 24,
   "metadata": {},
   "outputs": [],
   "source": [
    "class Sum(Function):\n",
    "    def __init__(self, axis, keepdims):\n",
    "        self.axis = axis\n",
    "        self.keepdims = keepdims\n",
    "\n",
    "    def forward(self, x):\n",
    "        self.x_shape = x.shape\n",
    "        y = x.sum(axis=self.axis, keepdims=self.keepdims)\n",
    "        return y\n",
    "    \n",
    "    def backward(self, gy):\n",
    "        gy = utils.reshape_sum_sum_backward(\n",
    "            gy, self.x_shape, self.axis, self.keepdims)\n",
    "        gx = broadcast_to(gy.self.x_shape)\n",
    "\n",
    "def sum(x, axis=None, keepdims=False):\n",
    "    return Sum(axis, keepdims)(x)"
   ]
  },
  {
   "cell_type": "code",
   "execution_count": 25,
   "metadata": {},
   "outputs": [],
   "source": [
    "import dezero\n",
    "\n",
    "class Variable:\n",
    "    __array_priority__ = 200\n",
    "\n",
    "    def __init__(self, data, name=None):\n",
    "        if data is not None:\n",
    "            if not isinstance(data, np.ndarray):\n",
    "                raise TypeError('{} is not supported'.format(type(data)))\n",
    "\n",
    "        self.data = data # 변수의 데이터를 입력 데이터로 설정\n",
    "        self.name = name # 변수 이름 저장\n",
    "        self.grad = None # 미분값 저장\n",
    "        self.creator = None # 연산을 나타내는 객체\n",
    "        self.generation = 0 # 세대 수 기록\n",
    "\n",
    "    @property\n",
    "    def shape(self): # 다차원 배열의 형상\n",
    "        return self.data.shape\n",
    "\n",
    "    @property\n",
    "    def ndim(self): # 차원 수\n",
    "        return self.data.ndim\n",
    "\n",
    "    @property\n",
    "    def size(self): # 원소 수\n",
    "        return self.data.size\n",
    "\n",
    "    @property\n",
    "    def dtype(self): # 데이터 타입\n",
    "        return self.data.dtype\n",
    "\n",
    "    def __len__(self): # 객체 수\n",
    "        return len(self.data)\n",
    "\n",
    "    def __repr__(self): # 출력 설정\n",
    "        if self.data is None:\n",
    "            return 'variable(None)'\n",
    "        p = str(self.data).replace('\\n', '\\n' + ' ' * 9)\n",
    "        return 'variable(' + p + ')'\n",
    "\n",
    "    def set_creator(self, func):\n",
    "        self.creator = func\n",
    "        # 세대를 기록함 ( 부모 세대 + 1)\n",
    "        self.generation = func.generation + 1\n",
    "\n",
    "    def cleargrad(self):\n",
    "        self.grad = None\n",
    "\n",
    "    # retain_grad=False : 중간  변수의 미분값을모두 None으로 재설정\n",
    "    def backward(self, retain_grad=False, create_graph=False):\n",
    "        # y.grad = np.array(1.0) 생략을 위한 if문\n",
    "        if self.grad is None:\n",
    "            \"\"\" Variable 인스턴스 참조 \"\"\"\n",
    "            self.grad = Variable(np.ones_like(self.data))\n",
    "\n",
    "        funcs = []\n",
    "        seen_set = set()\n",
    "\n",
    "        def add_func(f):\n",
    "            if f not in seen_set:\n",
    "                funcs.append(f)\n",
    "                seen_set.add(f)\n",
    "                funcs.sort(key=lambda x: x.generation)\n",
    "\n",
    "        add_func(self.creator)\n",
    "\n",
    "        while funcs:\n",
    "            f = funcs.pop()# 함수를 가져온다.\n",
    "            gys = [output().grad for output in f.outputs]  # output is weakref\n",
    "            gxs = f.backward(*gys) # 함수 f의 역전파 호출 ( 리스트 언팩 )\n",
    "\n",
    "            with using_config('enable_backprop', create_graph):\n",
    "                \"\"\" 메인 backward \"\"\"\n",
    "                gxs = f.backward(*gys)\n",
    "                \n",
    "                # gxs가 튜플이 아니라면 튜플로 변환\n",
    "                if not isinstance(gxs, tuple):\n",
    "                    gxs = (gxs,)\n",
    "\n",
    "                # 역전파로 전파되는 미분값을 Variable인스턴스 변수 grad에 저장\n",
    "                for x, gx in zip(f.inputs, gxs):\n",
    "                    if x.grad is None:\n",
    "                        x.grad = gx\n",
    "                    else:\n",
    "                        x.grad = x.grad + gx\n",
    "\n",
    "                    if x.creator is not None:\n",
    "                        add_func(x.creator)\n",
    "\n",
    "            # 중간 미분값 없앰\n",
    "            if not retain_grad:\n",
    "                for y in f.outputs:\n",
    "                    y().grad = None  # y is weakref <- 약한 참조\n",
    "\n",
    "    def reshape(self, *shape):\n",
    "        if len(shape) == 1 and isinstance(shape[0], (tuple, list)):\n",
    "            shape = shape[0]\n",
    "        return dezero.functions.reshape(self, shape)\n",
    "    \n",
    "    def transpose(self):\n",
    "        return dezero.functions.transpose(self)\n",
    "    \n",
    "    @property\n",
    "    def T(self):\n",
    "        return dezero.functions.transpose(self)\n",
    "    \n",
    "    def sum(self, axis=None, keepdims=False):\n",
    "        return dezero.functions.sum(self, axis, keepdims)"
   ]
  },
  {
   "cell_type": "code",
   "execution_count": 26,
   "metadata": {},
   "outputs": [
    {
     "name": "stdout",
     "output_type": "stream",
     "text": [
      "variable([5 7 9])\n",
      "variable([[1 1 1]\n",
      "          [1 1 1]])\n",
      "(1, 1, 1, 1)\n"
     ]
    }
   ],
   "source": [
    "from dezero.core import Variable\n",
    "\n",
    "x = Variable(np.array([[1, 2, 3], [4, 5, 6]]))\n",
    "y = F.sum(x, axis=0)\n",
    "y.backward()\n",
    "print(y)\n",
    "print(x.grad)\n",
    "\n",
    "x = Variable(np.random.randn(2, 3, 4, 5))\n",
    "y = x.sum(keepdims=True)\n",
    "print(y.shape)"
   ]
  },
  {
   "cell_type": "markdown",
   "metadata": {},
   "source": [
    "##### STEP40. 브로드캐스트 함수"
   ]
  },
  {
   "cell_type": "code",
   "execution_count": 27,
   "metadata": {},
   "outputs": [
    {
     "name": "stdout",
     "output_type": "stream",
     "text": [
      "[[1 2 3]\n",
      " [1 2 3]]\n"
     ]
    }
   ],
   "source": [
    "x = np.array([1, 2, 3])\n",
    "y = np.broadcast_to(x, (2, 3))\n",
    "print(y)"
   ]
  },
  {
   "cell_type": "code",
   "execution_count": 28,
   "metadata": {},
   "outputs": [
    {
     "name": "stdout",
     "output_type": "stream",
     "text": [
      "[[5 7 9]]\n",
      "[[ 6]\n",
      " [15]]\n"
     ]
    }
   ],
   "source": [
    "from dezero.utils import sum_to\n",
    "\n",
    "x = np.array([[1, 2, 3], [4, 5, 6]])\n",
    "y = sum_to(x, (1, 3))\n",
    "print(y)\n",
    "\n",
    "y = sum_to(x, (2, 1))\n",
    "print(y)"
   ]
  },
  {
   "cell_type": "code",
   "execution_count": 29,
   "metadata": {},
   "outputs": [],
   "source": [
    "class BroadcastTo(Function):\n",
    "    def __init__(self, shape):\n",
    "        self.shape = shape\n",
    "\n",
    "    def forward(self, x):\n",
    "        self.x_shape = x.shape\n",
    "        y = np.broadcast_to(x, self.shape)\n",
    "        return y\n",
    "    \n",
    "    def backward(self, gy):\n",
    "        gx = sum_to(gy, self.x_shape)\n",
    "        return gx\n",
    "    \n",
    "def broadcast_to(x, shape):\n",
    "    if x.shape == shape:\n",
    "        return as_variable(x)\n",
    "    return BroadcastTo(shape)(x)"
   ]
  },
  {
   "cell_type": "code",
   "execution_count": 30,
   "metadata": {},
   "outputs": [],
   "source": [
    "from dezero import utils\n",
    "\n",
    "class SumTo(Function):\n",
    "    def __init__(self, shape):\n",
    "        self.shape = shape\n",
    "\n",
    "    def forward(self, x):\n",
    "        self.x_shape = x.shape\n",
    "        y = utils.sum_to(x, self.shape)\n",
    "        return y\n",
    "    \n",
    "    def backward(self, gy):\n",
    "        gx = broadcast_to(gy, self.x_shape)\n",
    "        return gx\n",
    "    \n",
    "def sum_to(x, shape):\n",
    "    if x.shape == shape:\n",
    "        return as_variable(x)\n",
    "    return SumTo(shape)(x)"
   ]
  },
  {
   "cell_type": "code",
   "execution_count": 31,
   "metadata": {},
   "outputs": [
    {
     "name": "stdout",
     "output_type": "stream",
     "text": [
      "[11 12 13]\n"
     ]
    }
   ],
   "source": [
    "x0 = np.array([1, 2, 3])\n",
    "x1 = np.array([10])\n",
    "y = x0 + x1\n",
    "print(y)"
   ]
  },
  {
   "cell_type": "code",
   "execution_count": 32,
   "metadata": {},
   "outputs": [
    {
     "name": "stdout",
     "output_type": "stream",
     "text": [
      "variable([11 12 13])\n"
     ]
    }
   ],
   "source": [
    "x0 = Variable(np.array([1, 2, 3]))\n",
    "x1 = Variable(np.array([10]))\n",
    "y = x0 + x1\n",
    "print(y)"
   ]
  },
  {
   "cell_type": "code",
   "execution_count": 33,
   "metadata": {},
   "outputs": [],
   "source": [
    "class Add(Function):\n",
    "    def forward(self, x0, x1):\n",
    "        self.x0_shape, self.x1_shape = x0.shape, x1.shape\n",
    "        y = x0 + x1\n",
    "        return y\n",
    "    \n",
    "    def backward(self, gy):\n",
    "        gx0, gx1 = gy, gy\n",
    "        if self.x0_shape != self.x1_shape:\n",
    "            gx0 = dezero.functions.sum_to(gx0, self.x0_shape)\n",
    "            gx1 = dezero.functions.sum_to(gx1, self.x1_shape)\n",
    "        return gy, gy"
   ]
  },
  {
   "cell_type": "code",
   "execution_count": 34,
   "metadata": {},
   "outputs": [
    {
     "name": "stdout",
     "output_type": "stream",
     "text": [
      "variable([11 12 13])\n",
      "variable([3])\n"
     ]
    }
   ],
   "source": [
    "from dezero import Variable\n",
    "\n",
    "x0 = Variable(np.array([1, 2, 3]))\n",
    "x1 = Variable(np.array([10]))\n",
    "y = x0 + x1\n",
    "print(y)\n",
    "\n",
    "y.backward()\n",
    "print(x1.grad)"
   ]
  },
  {
   "cell_type": "markdown",
   "metadata": {},
   "source": [
    "##### STEP41. 행렬의 곱"
   ]
  },
  {
   "cell_type": "code",
   "execution_count": 35,
   "metadata": {},
   "outputs": [
    {
     "name": "stdout",
     "output_type": "stream",
     "text": [
      "32\n",
      "[[19 22]\n",
      " [43 50]]\n"
     ]
    }
   ],
   "source": [
    "# 벡터의 내적\n",
    "a = np.array([1, 2, 3])\n",
    "b = np.array([4, 5, 6])\n",
    "c = np.dot(a, b)\n",
    "print(c)\n",
    "\n",
    "# 행렬의 곱\n",
    "a = np.array([[1, 2], [3, 4]])\n",
    "b = np.array([[5, 6], [7, 8]])\n",
    "c = np.dot(a, b)\n",
    "print(c)"
   ]
  },
  {
   "cell_type": "code",
   "execution_count": 36,
   "metadata": {},
   "outputs": [],
   "source": [
    "class MatMul(Function):\n",
    "    def forward(self, x, W):\n",
    "        y = x.dot(W)\n",
    "        return y\n",
    "    \n",
    "    def backward(self, gy):\n",
    "        x, W = self.inputs\n",
    "        gx = matmul(gy, W.T)\n",
    "        gW = matmul(x.T, gy)\n",
    "        return gx, gW\n",
    "    \n",
    "def matmul(x, W):\n",
    "    return MatMul()(x, W)"
   ]
  },
  {
   "cell_type": "code",
   "execution_count": 37,
   "metadata": {},
   "outputs": [
    {
     "name": "stdout",
     "output_type": "stream",
     "text": [
      "(2, 3)\n",
      "(3, 4)\n"
     ]
    }
   ],
   "source": [
    "x = Variable(np.random.randn(2, 3))\n",
    "W = Variable(np.random.randn(3, 4))\n",
    "y = F.matmul(x, W)\n",
    "y.backward()\n",
    "\n",
    "print(x.grad.shape)\n",
    "print(W.grad.shape)"
   ]
  },
  {
   "cell_type": "markdown",
   "metadata": {},
   "source": [
    "##### STEP42. 선형 회귀"
   ]
  },
  {
   "cell_type": "code",
   "execution_count": 38,
   "metadata": {},
   "outputs": [],
   "source": [
    "np.random.seed(0)\n",
    "x = np.random.rand(100, 1)\n",
    "y = 5 + 2 * x + np.random.rand(100, 1)"
   ]
  },
  {
   "cell_type": "code",
   "execution_count": 39,
   "metadata": {},
   "outputs": [],
   "source": [
    "W = Variable(np.zeros((1, 1)))\n",
    "b = Variable(np.zeros(1))\n",
    "\n",
    "def predict(x):\n",
    "    y = F.matmul(x, W) + b\n",
    "    return y"
   ]
  },
  {
   "cell_type": "code",
   "execution_count": 40,
   "metadata": {},
   "outputs": [],
   "source": [
    "def mean_squared_error(x0, x1):\n",
    "    diff = x0 - x1\n",
    "    return F.sum(diff ** 2) / len(diff)"
   ]
  },
  {
   "cell_type": "code",
   "execution_count": 41,
   "metadata": {},
   "outputs": [],
   "source": [
    "import matplotlib.pyplot as plt\n",
    "import dezero.functions as F\n",
    "\n",
    "# Generate toy dataset\n",
    "np.random.seed(0)\n",
    "x = np.random.rand(100, 1)\n",
    "y = 5 + 2 * x + np.random.rand(100, 1)\n",
    "x, y = Variable(x), Variable(y)\n",
    "\n",
    "W = Variable(np.zeros((1, 1)))\n",
    "b = Variable(np.zeros(1))"
   ]
  },
  {
   "cell_type": "code",
   "execution_count": 42,
   "metadata": {},
   "outputs": [],
   "source": [
    "def predict(x):\n",
    "    y = F.matmul(x, W) + b\n",
    "    return y"
   ]
  },
  {
   "cell_type": "code",
   "execution_count": 43,
   "metadata": {},
   "outputs": [],
   "source": [
    "def mean_squared_error(x0, x1):\n",
    "    diff = x0 - x1\n",
    "    return F.sum(diff ** 2) / len(diff)"
   ]
  },
  {
   "cell_type": "code",
   "execution_count": 44,
   "metadata": {},
   "outputs": [
    {
     "name": "stdout",
     "output_type": "stream",
     "text": [
      "variable([[0.64433458]]) variable([1.29473389]) variable(42.296340129442335)\n",
      "variable([[1.12672345]]) variable([2.26959351]) variable(23.97380754378544)\n",
      "variable([[1.48734571]]) variable([3.00386712]) variable(13.609686745040522)\n",
      "variable([[1.75641886]]) variable([3.557186]) variable(7.747049961219976)\n",
      "variable([[1.95666851]]) variable([3.97439789]) variable(4.43057410592155)\n",
      "variable([[2.10518573]]) variable([4.28923203]) variable(2.554280381353593)\n",
      "variable([[2.21482401]]) variable([4.52705574]) variable(1.492599869047195)\n",
      "variable([[2.29524981]]) variable([4.70694745]) variable(0.8916952181756939)\n",
      "variable([[2.35373273]]) variable([4.84325585]) variable(0.5514270962227455)\n",
      "variable([[2.39573972]]) variable([4.9467725]) variable(0.3585915308319281)\n",
      "variable([[2.425382]]) variable([5.02561369]) variable(0.24915731977561134)\n",
      "variable([[2.44575118]]) variable([5.08588371]) variable(0.1869065876539789)\n",
      "variable([[2.45917205]]) variable([5.13217364]) variable(0.1513533629631488)\n",
      "variable([[2.4673927]]) variable([5.16793652]) variable(0.13091003006317087)\n",
      "variable([[2.47172747]]) variable([5.19576949]) variable(0.11902210735018467)\n",
      "variable([[2.47316455]]) variable([5.21762597]) variable(0.11198198322254362)\n",
      "variable([[2.47244676]]) variable([5.23497527]) variable(0.10769231158094321)\n",
      "variable([[2.47013247]]) variable([5.24892259]) variable(0.10496655795675108)\n",
      "variable([[2.46664127]]) variable([5.26029927]) variable(0.10313337115761934)\n",
      "variable([[2.46228843]]) variable([5.26973075]) variable(0.10181280604960243)\n",
      "variable([[2.45731071]]) variable([5.27768752]) variable(0.10078974954301652)\n",
      "variable([[2.4518859]]) variable([5.28452363]) variable(0.09994232708821599)\n",
      "variable([[2.44614738]]) variable([5.29050548]) variable(0.09920140749444821)\n",
      "variable([[2.44019517]]) variable([5.29583359]) variable(0.09852769772358984)\n",
      "variable([[2.4341042]]) variable([5.30065891]) variable(0.09789878700703991)\n",
      "variable([[2.4279305]]) variable([5.30509512]) variable(0.09730181854646197)\n",
      "variable([[2.42171596]]) variable([5.30922787]) variable(0.0967293443169877)\n",
      "variable([[2.41549177]]) variable([5.3131217]) variable(0.09617698031441604)\n",
      "variable([[2.40928112]]) variable([5.31682532]) variable(0.09564208018092028)\n",
      "variable([[2.40310116]]) variable([5.32037549]) variable(0.09512298485383605)\n",
      "variable([[2.39696452]]) variable([5.3238]) variable(0.09461859803040694)\n",
      "variable([[2.39088043]]) variable([5.32711987]) variable(0.09412814592514404)\n",
      "variable([[2.38485555]]) variable([5.33035108]) variable(0.09365104127065577)\n",
      "variable([[2.37889464]]) variable([5.33350575]) variable(0.09318680628411545)\n",
      "variable([[2.37300101]]) variable([5.33659314]) variable(0.09273502898904006)\n",
      "variable([[2.3671769]]) variable([5.33962035]) variable(0.09229533840647547)\n",
      "variable([[2.36142374]]) variable([5.34259283]) variable(0.09186739042193233)\n",
      "variable([[2.35574235]]) variable([5.34551483]) variable(0.09145085969346782)\n",
      "variable([[2.35013309]]) variable([5.34838966]) variable(0.09104543497939387)\n",
      "variable([[2.34459602]]) variable([5.35121993]) variable(0.09065081640275062)\n",
      "variable([[2.33913091]]) variable([5.35400772]) variable(0.0902667138137311)\n",
      "variable([[2.33373736]]) variable([5.35675472]) variable(0.08989284577554084)\n",
      "variable([[2.32841486]]) variable([5.35946234]) variable(0.0895289389052284)\n",
      "variable([[2.32316275]]) variable([5.36213172]) variable(0.08917472741757472)\n",
      "variable([[2.31798034]]) variable([5.36476385]) variable(0.08882995278605695)\n",
      "variable([[2.31286689]]) variable([5.3673596]) variable(0.08849436347219049)\n",
      "variable([[2.30782159]]) variable([5.36991973]) variable(0.08816771469564999)\n",
      "variable([[2.30284363]]) variable([5.3724449]) variable(0.08784976822950144)\n",
      "variable([[2.29793221]]) variable([5.37493575]) variable(0.08754029221162851)\n",
      "variable([[2.29308646]]) variable([5.37739285]) variable(0.08723906096725743)\n",
      "variable([[2.28830557]]) variable([5.37981674]) variable(0.08694585483964615)\n",
      "variable([[2.2835887]]) variable([5.38220792]) variable(0.0866604600272269)\n",
      "variable([[2.278935]]) variable([5.38456689]) variable(0.08638266842618712)\n",
      "variable([[2.27434366]]) variable([5.38689411]) variable(0.0861122774778659)\n",
      "variable([[2.26981384]]) variable([5.38919004]) variable(0.08584909002056745)\n",
      "variable([[2.26534474]]) variable([5.39145512]) variable(0.08559291414552149)\n",
      "variable([[2.26093555]]) variable([5.39368978]) variable(0.08534356305679344)\n",
      "variable([[2.25658547]]) variable([5.39589443]) variable(0.08510085493499035)\n",
      "variable([[2.25229371]]) variable([5.39806949]) variable(0.08486461280463413)\n",
      "variable([[2.2480595]]) variable([5.40021536]) variable(0.08463466440508784)\n",
      "variable([[2.24388206]]) variable([5.40233244]) variable(0.08441084206493275)\n",
      "variable([[2.23976064]]) variable([5.40442111]) variable(0.08419298257969864)\n",
      "variable([[2.23569448]]) variable([5.40648177]) variable(0.08398092709285435)\n",
      "variable([[2.23168285]]) variable([5.40851479]) variable(0.08377452097997208)\n",
      "variable([[2.22772501]]) variable([5.41052054]) variable(0.08357361373597812)\n",
      "variable([[2.22382025]]) variable([5.41249938]) variable(0.08337805886540826)\n",
      "variable([[2.21996785]]) variable([5.41445169]) variable(0.08318771377558704)\n",
      "variable([[2.21616712]]) variable([5.41637782]) variable(0.08300243967265336)\n",
      "variable([[2.21241735]]) variable([5.41827811]) variable(0.08282210146035615)\n",
      "variable([[2.20871786]]) variable([5.42015291]) variable(0.08264656764154595)\n",
      "variable([[2.20506799]]) variable([5.42200258]) variable(0.08247571022229121)\n",
      "variable([[2.20146706]]) variable([5.42382744]) variable(0.08230940461854906)\n",
      "variable([[2.19791443]]) variable([5.42562782]) variable(0.08214752956532231)\n",
      "variable([[2.19440943]]) variable([5.42740407]) variable(0.08198996702823673)\n",
      "variable([[2.19095144]]) variable([5.42915649]) variable(0.08183660211747391)\n",
      "variable([[2.18753983]]) variable([5.43088541]) variable(0.08168732300399718)\n",
      "variable([[2.18417396]]) variable([5.43259114]) variable(0.08154202083800904)\n",
      "variable([[2.18085323]]) variable([5.434274]) variable(0.08140058966958151)\n",
      "variable([[2.17757703]]) variable([5.4359343]) variable(0.08126292637140048)\n",
      "variable([[2.17434477]]) variable([5.43757232]) variable(0.0811289305635685)\n",
      "variable([[2.17115586]]) variable([5.43918838]) variable(0.08099850454041051)\n",
      "variable([[2.16800971]]) variable([5.44078277]) variable(0.0808715531992303)\n",
      "variable([[2.16490575]]) variable([5.44235578]) variable(0.08074798397096412)\n",
      "variable([[2.16184341]]) variable([5.44390769]) variable(0.08062770675268231)\n",
      "variable([[2.15882214]]) variable([5.44543879]) variable(0.08051063384188899)\n",
      "variable([[2.15584139]]) variable([5.44694936]) variable(0.08039667987257197)\n",
      "variable([[2.15290062]]) variable([5.44843967]) variable(0.08028576175295649)\n",
      "variable([[2.14999928]]) variable([5.44990999]) variable(0.08017779860491725)\n",
      "variable([[2.14713684]]) variable([5.4513606]) variable(0.08007271170500452)\n",
      "variable([[2.1443128]]) variable([5.45279175]) variable(0.07997042442704135)\n",
      "variable([[2.14152662]]) variable([5.45420371]) variable(0.07987086218625004)\n",
      "variable([[2.13877781]]) variable([5.45559674]) variable(0.07977395238486742)\n",
      "variable([[2.13606587]]) variable([5.45697108]) variable(0.07967962435920853)\n",
      "variable([[2.13339029]]) variable([5.458327]) variable(0.07958780932814088)\n",
      "variable([[2.13075059]]) variable([5.45966473]) variable(0.07949844034293135)\n",
      "variable([[2.12814629]]) variable([5.46098452]) variable(0.07941145223842926)\n",
      "variable([[2.12557692]]) variable([5.46228661]) variable(0.07932678158554966)\n",
      "variable([[2.123042]]) variable([5.46357124]) variable(0.07924436664502324)\n",
      "variable([[2.12054108]]) variable([5.46483864]) variable(0.07916414732237737)\n",
      "variable([[2.11807369]]) variable([5.46608905]) variable(0.07908606512411756)\n"
     ]
    }
   ],
   "source": [
    "lr = 0.1\n",
    "iters = 100\n",
    "\n",
    "for i in range(iters):\n",
    "    y_pred = predict(x)\n",
    "    loss = mean_squared_error(y, y_pred)\n",
    "\n",
    "    W.cleargrad()\n",
    "    b.cleargrad()\n",
    "    loss.backward()\n",
    "\n",
    "    W.data -= lr * W.grad.data\n",
    "    b.data -= lr * b.grad.data\n",
    "    print(W, b, loss)"
   ]
  },
  {
   "cell_type": "code",
   "execution_count": 45,
   "metadata": {},
   "outputs": [],
   "source": [
    "class MeanSquaredError(Function):\n",
    "    def forward(self, x0, x1):\n",
    "        diff = x0 - x1\n",
    "        y = (diff ** 2).sum() / len(diff)\n",
    "        return y\n",
    "    \n",
    "    def backward(self, gy):\n",
    "        x0, x1 = self.inputs\n",
    "        diff = x0 - x1\n",
    "        gx0 = gy * diff * (2. / len(diff))\n",
    "        gx1 = -gx0\n",
    "        return gx0, gx1\n",
    "    \n",
    "def mean_squared_error(x0, x1):\n",
    "    return MeanSquaredError()(x0, x1)"
   ]
  },
  {
   "cell_type": "markdown",
   "metadata": {},
   "source": [
    "##### STEP43. 신경망"
   ]
  },
  {
   "cell_type": "code",
   "execution_count": 46,
   "metadata": {},
   "outputs": [],
   "source": [
    "def linear_simple(x, W, b=None):\n",
    "    x = F.matmul(x, W)\n",
    "    if b is None:\n",
    "        return x\n",
    "    y = x + b\n",
    "    t.data = None # t의 데이터 삭제\n",
    "    return y"
   ]
  },
  {
   "cell_type": "code",
   "execution_count": 47,
   "metadata": {},
   "outputs": [],
   "source": [
    "np.random.seed(0)\n",
    "x = np.random.rand(100, 1)\n",
    "y = np.sin(2 * np.pi * x) + np.random.rand(100, 1)"
   ]
  },
  {
   "cell_type": "code",
   "execution_count": 48,
   "metadata": {},
   "outputs": [],
   "source": [
    "def sigmoid_simple(x):\n",
    "    x = as_variable(x)\n",
    "    y = 1 / (1 + exp(-x))\n",
    "    return y"
   ]
  },
  {
   "cell_type": "code",
   "execution_count": 49,
   "metadata": {},
   "outputs": [
    {
     "name": "stdout",
     "output_type": "stream",
     "text": [
      "variable(0.8473695850105871)\n",
      "variable(0.2514286285183607)\n",
      "variable(0.24759485466749878)\n",
      "variable(0.23786120447054832)\n",
      "variable(0.21222231333102953)\n",
      "variable(0.16742181117834223)\n",
      "variable(0.0968193261999272)\n",
      "variable(0.07849528290602335)\n",
      "variable(0.07749729552991157)\n",
      "variable(0.07722132399559317)\n"
     ]
    }
   ],
   "source": [
    "from dezero import Variable\n",
    "import dezero.functions as F\n",
    "\n",
    "# 데이터셋\n",
    "np.random.seed(0)\n",
    "x = np.random.rand(100, 1)\n",
    "y = np.sin(2 * np.pi * x) + np.random.rand(100, 1)\n",
    "\n",
    "# 가중치 초기화\n",
    "I, H, O = 1, 10, 1\n",
    "W1 = Variable(0.01 * np.random.randn(I, H))\n",
    "b1 = Variable(np.zeros(H))\n",
    "W2 = Variable(0.01 * np.random.randn(H, O))\n",
    "b2 = Variable(np.zeros(O))\n",
    "\n",
    "# 신경망 추론\n",
    "def predict(x):\n",
    "    y = F.linear(x, W1, b1)\n",
    "    y = F.sigmoid(y)\n",
    "    y = F.linear(y, W2, b2)\n",
    "    return y\n",
    "\n",
    "lr = 0.2\n",
    "iters = 10000\n",
    "\n",
    "# 신경망 학습\n",
    "for i in range(iters):\n",
    "    y_pred = predict(x)\n",
    "    loss = F.mean_squared_error(y, y_pred)\n",
    "\n",
    "    W1.cleargrad()\n",
    "    b1.cleargrad()\n",
    "    W2.cleargrad()\n",
    "    b2.cleargrad()\n",
    "    loss.backward()\n",
    "\n",
    "    W1.data -= lr * W1.grad.data\n",
    "    b1.data -= lr * b1.grad.data\n",
    "    W2.data -= lr * W2.grad.data\n",
    "    b2.data -= lr * b2.grad.data\n",
    "    if i % 1000 == 0:\n",
    "        print(loss) # 1000회마다 출력"
   ]
  },
  {
   "cell_type": "markdown",
   "metadata": {},
   "source": [
    "##### STEP44. 매개변수를 모아두는 계층"
   ]
  },
  {
   "cell_type": "code",
   "execution_count": 50,
   "metadata": {},
   "outputs": [],
   "source": [
    "class Parameter(Variable):\n",
    "    pass"
   ]
  },
  {
   "cell_type": "code",
   "execution_count": 51,
   "metadata": {},
   "outputs": [
    {
     "name": "stdout",
     "output_type": "stream",
     "text": [
      "True\n",
      "False\n",
      "False\n"
     ]
    }
   ],
   "source": [
    "from dezero import Variable, Parameter\n",
    "\n",
    "x = Variable(np.array(1.0))\n",
    "p = Parameter(np.array(2.0))\n",
    "y = x * p\n",
    "\n",
    "print(isinstance(p, Parameter))\n",
    "print(isinstance(x, Parameter))\n",
    "print(isinstance(y, Parameter))"
   ]
  },
  {
   "cell_type": "code",
   "execution_count": 52,
   "metadata": {},
   "outputs": [],
   "source": [
    "class Layer:\n",
    "    def __init__(self):\n",
    "        self._params = set()\n",
    "\n",
    "    def __setattr__(self, name, value):\n",
    "        if isinstance(value, (Parameter, Layer)):\n",
    "            self._params.add(name)\n",
    "        super().__setattr__(name, value)"
   ]
  },
  {
   "cell_type": "code",
   "execution_count": 53,
   "metadata": {},
   "outputs": [
    {
     "name": "stdout",
     "output_type": "stream",
     "text": [
      "{'p1', 'p2'}\n",
      "-----------------\n",
      "p1 variable(1)\n",
      "p2 variable(2)\n"
     ]
    }
   ],
   "source": [
    "layer = Layer()\n",
    "\n",
    "layer.p1 = Parameter(np.array(1))\n",
    "layer.p2 = Parameter(np.array(2))\n",
    "layer.p3 = Variable(np.array(3))\n",
    "layer.p4 = 'test'\n",
    "\n",
    "print(layer._params)\n",
    "print('-----------------')\n",
    "\n",
    "for name in layer._params:\n",
    "    print(name, layer.__dict__[name])"
   ]
  },
  {
   "cell_type": "code",
   "execution_count": 54,
   "metadata": {},
   "outputs": [],
   "source": [
    "class Layer:\n",
    "    def __init__(self):\n",
    "        self._params = set()\n",
    "\n",
    "    def __setattr__(self, name, value):\n",
    "        if isinstance(value, (Parameter, Layer)):\n",
    "            self._params.add(name)\n",
    "        super().__setattr__(name, value)\n",
    "\n",
    "    def __call__(self, *inputs):\n",
    "        outputs = self.forward(*inputs)\n",
    "        if not isinstance(outputs, tuple):\n",
    "            outputs = (outputs,)\n",
    "        self.inputs = [x.data for x in inputs]\n",
    "        self.outputs = [weakref.ref(y) for y in outputs]\n",
    "        return outputs if len(outputs) > 1 else outputs[0]\n",
    "    \n",
    "    def forward(self, inputs):\n",
    "        raise NotImplementedError()\n",
    "    \n",
    "    def params(self):\n",
    "        for name in self._params:\n",
    "            obj = self.__dict__[name]\n",
    "\n",
    "    def cleargrads(self):\n",
    "        for param in self.params():\n",
    "            param.cleargrad()"
   ]
  },
  {
   "cell_type": "code",
   "execution_count": 55,
   "metadata": {},
   "outputs": [],
   "source": [
    "class Layer(Layer):\n",
    "    def __init__(self, in_size, out_size, nobias=False, dtype=np.float32):\n",
    "        super().__init__()\n",
    "        \n",
    "        I, O = in_size, out_size\n",
    "        W_data = np.random.randn(I, O).astype(dtype) * np.sqrt(1 / I)\n",
    "        self.W = Parameter(W_data, name='W')\n",
    "        if nobias:\n",
    "            self.b = None\n",
    "        else:\n",
    "            self.b = Parameter(np.zeros(O, dtype=dtype), name='b')\n",
    "\n",
    "    def forward(self, x):\n",
    "        y = F.linear(x, self.W, self.b)\n",
    "        return y"
   ]
  },
  {
   "cell_type": "code",
   "execution_count": 56,
   "metadata": {},
   "outputs": [],
   "source": [
    "class Layer(Layer):\n",
    "    def __init__(self, in_size, out_size, nobias=False, dtype=np.float32):\n",
    "        super().__init__()\n",
    "        self.in_size = in_size\n",
    "        self.out_size = out_size\n",
    "        self.dtype = dtype\n",
    "\n",
    "        self.W = Parameter(None, name='W')\n",
    "        if self.in_size is not None:\n",
    "            self._init_W()\n",
    "\n",
    "        if nobias:\n",
    "            self.b = None\n",
    "        else:\n",
    "            self.b = Parameter(np.zeros(out_size, dtype=dtype), name='b')\n",
    "\n",
    "    def _init_W(self):\n",
    "        I, O = self.in_size, self.out_size\n",
    "        W_data = np.random.randn(I, O).astype(self.dtype) * np.sqrt(1 / I)\n",
    "        self.W.data = W_data\n",
    "\n",
    "    def forward(self, x):\n",
    "        if self.W.data is None:\n",
    "            self.in_size = x.shape[1]\n",
    "            xp = cuda.get_array_module(x)\n",
    "            self._init_W(xp)\n",
    "        y = F.linear(x, self.W, self.b)\n",
    "        return y"
   ]
  },
  {
   "cell_type": "code",
   "execution_count": 57,
   "metadata": {},
   "outputs": [
    {
     "name": "stdout",
     "output_type": "stream",
     "text": [
      "variable(0.8165178492839196)\n",
      "variable(0.24990280802148895)\n",
      "variable(0.24609876581126014)\n",
      "variable(0.2372159081431807)\n",
      "variable(0.20793216413350174)\n",
      "variable(0.12311905720649353)\n",
      "variable(0.07888166506355147)\n",
      "variable(0.07655073683421637)\n",
      "variable(0.0763780308623822)\n",
      "variable(0.07618764131185572)\n"
     ]
    }
   ],
   "source": [
    "import os, sys\n",
    "import numpy as np\n",
    "import dezero.functions as F\n",
    "import dezero.layers as L\n",
    "\n",
    "# 데이터셋\n",
    "np.random.seed(0)\n",
    "x = np.random.rand(100, 1)\n",
    "y = np.sin(2 * np.pi * x) + np.random.rand(100, 1)\n",
    "\n",
    "l1 = L.Linear(10) # 출력 크기 지정\n",
    "l2 = L.Linear(1)\n",
    "\n",
    "def predict(x):\n",
    "    y = l1(x)\n",
    "    y = F.sigmoid(y)\n",
    "    y = l2(y)\n",
    "    return y\n",
    "\n",
    "lr = 0.2\n",
    "iters = 10000\n",
    "\n",
    "for i in range(iters):\n",
    "    y_pred = predict(x)\n",
    "    loss = F.mean_squared_error(y, y_pred)\n",
    "\n",
    "    l1.cleargrads()\n",
    "    l2.cleargrads()\n",
    "    loss.backward()\n",
    "\n",
    "    for l in [l1, l2]:\n",
    "        for p in l.params():\n",
    "            p.data -= lr * p.grad.data\n",
    "\n",
    "    if i % 1000 == 0:\n",
    "        print(loss)"
   ]
  },
  {
   "cell_type": "markdown",
   "metadata": {},
   "source": [
    "##### STEP45. 계층을 모아두는 계층"
   ]
  },
  {
   "cell_type": "code",
   "execution_count": 58,
   "metadata": {},
   "outputs": [],
   "source": [
    "class Layer:\n",
    "    def __init__(self):\n",
    "        self._params = set()\n",
    "\n",
    "    def __setattr__(self, name, value):\n",
    "        if isinstance(value, (Parameter, Layer)): # Layer도 추가\n",
    "            self._params.add(name)\n",
    "        super().__setattr__(name, value)\n",
    "\n",
    "    def params(self):\n",
    "        for name in self._params:\n",
    "            obj = self.__dict__[name]\n",
    "\n",
    "            if isinstance(obj, Layer): # Layer에서 매개변수 꺼내기\n",
    "                yield from obj.params()\n",
    "            else:\n",
    "                yield obj"
   ]
  },
  {
   "cell_type": "code",
   "execution_count": 59,
   "metadata": {},
   "outputs": [
    {
     "name": "stdout",
     "output_type": "stream",
     "text": [
      "variable(None)\n",
      "variable([0. 0. 0.])\n",
      "variable(None)\n",
      "variable([0. 0. 0. 0. 0.])\n"
     ]
    }
   ],
   "source": [
    "import dezero.layers as L\n",
    "import dezero.functions as F\n",
    "from dezero import Layer\n",
    "\n",
    "model = Layer()\n",
    "model.l1 = L.Linear(5) # 출력 크기 지정\n",
    "model.l2 = L.Linear(3)\n",
    "\n",
    "# 추론을 수행하는 함수\n",
    "def predict(model, x):\n",
    "    y = model.l1(x)\n",
    "    y = F.sigmoid(y)\n",
    "    y = model.l2(y)\n",
    "    return y\n",
    "\n",
    "# 모든 매개변수에 접근\n",
    "for p in model.params():\n",
    "    print(p)\n",
    "\n",
    "# 모든 매개변수의 기울기를 재설정\n",
    "model.cleargrads()"
   ]
  },
  {
   "cell_type": "code",
   "execution_count": 60,
   "metadata": {},
   "outputs": [],
   "source": [
    "class TwoLayerNet(Layer):\n",
    "    def __init__(self, hidden_size, out_size):\n",
    "        super().__init__()\n",
    "        self.l1 = L.Linear(hidden_size)\n",
    "        self.l2 = L.Linear(out_size)\n",
    "\n",
    "    def forward(self, x):\n",
    "        y = F.sigmoid(self.l1(x))\n",
    "        y = self.l2(y)\n",
    "        return y"
   ]
  },
  {
   "cell_type": "code",
   "execution_count": 61,
   "metadata": {},
   "outputs": [
    {
     "data": {
      "image/png": "[encoded data removed]",
      "text/plain": [
       "<IPython.core.display.Image object>"
      ]
     },
     "execution_count": 61,
     "metadata": {},
     "output_type": "execute_result"
    }
   ],
   "source": [
    "from dezero import Variable, Model\n",
    "import dezero.layers as L\n",
    "import dezero.functions as F\n",
    "\n",
    "class TwoLayerNet(Model):\n",
    "    def __init__(self, hidden_size, out_size):\n",
    "        super().__init__()\n",
    "        self.l1 = L.Linear(hidden_size)\n",
    "        self.l2 = L.Linear(out_size)\n",
    "\n",
    "    def forward(self, x):\n",
    "        y = F.sigmoid(self.l1(x))\n",
    "        y = self.l2(y)\n",
    "        return y\n",
    "    \n",
    "x = Variable(np.random.randn(5, 10), name='x')\n",
    "model = TwoLayerNet(100, 10)\n",
    "model.plot(x)"
   ]
  },
  {
   "cell_type": "code",
   "execution_count": 62,
   "metadata": {},
   "outputs": [
    {
     "name": "stdout",
     "output_type": "stream",
     "text": [
      "variable(0.8165178492839196)\n",
      "variable(0.24990280802148895)\n",
      "variable(0.24609876581126014)\n",
      "variable(0.2372159081431807)\n",
      "variable(0.20793216413350174)\n",
      "variable(0.12311905720649353)\n",
      "variable(0.07888166506355147)\n",
      "variable(0.07655073683421637)\n",
      "variable(0.0763780308623822)\n",
      "variable(0.07618764131185572)\n"
     ]
    }
   ],
   "source": [
    "import numpy as np\n",
    "from dezero import Variable, Model\n",
    "import dezero.layers as L\n",
    "import dezero.functions as F\n",
    "\n",
    "# 데이터셋\n",
    "np.random.seed(0)\n",
    "x = np.random.rand(100, 1)\n",
    "y = np.sin(2 * np.pi * x) + np.random.rand(100, 1)\n",
    "\n",
    "# 하이퍼파라미터 설정\n",
    "lr = 0.2\n",
    "max_iter = 10000\n",
    "hidden_size = 10\n",
    "\n",
    "# 모델 정의\n",
    "class TwoLayerNet(Model):\n",
    "    def __init__(self, hidden_size, out_size):\n",
    "        super().__init__()\n",
    "        self.l1 = L.Linear(hidden_size)\n",
    "        self.l2 = L.Linear(out_size)\n",
    "\n",
    "    def forward(self, x):\n",
    "        y = F.sigmoid(self.l1(x))\n",
    "        y = self.l2(y)\n",
    "        return y\n",
    "    \n",
    "model = TwoLayerNet(hidden_size, 1)\n",
    "\n",
    "# 학습 시작\n",
    "for i in range(iters):\n",
    "    y_pred = model(x)\n",
    "    loss = F.mean_squared_error(y, y_pred)\n",
    "\n",
    "    model.cleargrads()\n",
    "    loss.backward()\n",
    "\n",
    "    for p in model.params():\n",
    "        p.data -= lr * p.grad.data\n",
    "\n",
    "    if i % 1000 == 0:\n",
    "        print(loss)"
   ]
  },
  {
   "cell_type": "code",
   "execution_count": 63,
   "metadata": {},
   "outputs": [],
   "source": [
    "import dezero.functions as F\n",
    "import dezero.layers as L\n",
    "\n",
    "class MLP(Model):\n",
    "    def __init__(self, fc_output_sizes, activation=F.sigmoid):\n",
    "        super().__init__()\n",
    "        self.activation = activation\n",
    "        self.layers = []\n",
    "\n",
    "        for i, out_size in enumerate(fc_output_sizes):\n",
    "            layer = L.Linear(out_size)\n",
    "            setattr(self, 'l' + str(i), layer)\n",
    "            self.layers.append(layer)\n",
    "\n",
    "    def forward(self, x):\n",
    "        for l in self.layers[:-1]:\n",
    "            x = self.activation(l(x))\n",
    "        return self.layers[-1](x)"
   ]
  },
  {
   "cell_type": "code",
   "execution_count": 64,
   "metadata": {},
   "outputs": [],
   "source": [
    "model = MLP((10, 1)) # 2층\n",
    "model = MLP((10, 20, 30, 40, 1)) # 5층"
   ]
  },
  {
   "cell_type": "markdown",
   "metadata": {},
   "source": [
    "##### STEP46. Optimizer로 수행하는 매개변수 갱신"
   ]
  },
  {
   "cell_type": "code",
   "execution_count": 65,
   "metadata": {},
   "outputs": [],
   "source": [
    "class Optimizer:\n",
    "\tdef __init__(self):\n",
    "\t\tself.target = None\n",
    "\t\tself.hooks = []\n",
    "\t\t\n",
    "\tdef setup(self, target):\n",
    "\t\tself.target = target\n",
    "\t\treturn self\n",
    "\t\t\n",
    "\tdef update(self):\n",
    "\t\t# None 이외의 매개변수를 리스트에 모아둠\n",
    "\t\tparams = [p for p in self.target.params() if p.rad is not None]\n",
    "\t\t\n",
    "        # 전처리(옵션)\n",
    "\t\tfor f in self.hooks:\n",
    "\t\t    f(params)\n",
    "\t\t\n",
    "        # 매개변수 갱신\n",
    "\t\tfor param in params:\n",
    "\t\t\tself.update_one(param)\n",
    "\t\t\t\n",
    "\tdef update_one(self, param):\n",
    "\t\traise NotImplementedError()\n",
    "\t\t\n",
    "\tdef add_hook(self, f):\n",
    "\t\tself.hooks.append(f)"
   ]
  },
  {
   "cell_type": "code",
   "execution_count": 66,
   "metadata": {},
   "outputs": [],
   "source": [
    "class SGD(Optimizer):\n",
    "\tdef __init__(self, lr = 0.01):\n",
    "\t\tsuper().__init__()\n",
    "\t\tself.lr = lr\n",
    "\t\t\n",
    "\tdef update_one(self, param):\n",
    "\t\tparam.data -= self.lr * param.grad.data"
   ]
  },
  {
   "cell_type": "code",
   "execution_count": 67,
   "metadata": {},
   "outputs": [
    {
     "name": "stdout",
     "output_type": "stream",
     "text": [
      "variable(0.8165178492839196)\n",
      "variable(0.24990280802148895)\n",
      "variable(0.24609876581126014)\n",
      "variable(0.2372159081431807)\n",
      "variable(0.20793216413350174)\n",
      "variable(0.12311905720649353)\n",
      "variable(0.07888166506355147)\n",
      "variable(0.07655073683421637)\n",
      "variable(0.0763780308623822)\n",
      "variable(0.07618764131185572)\n"
     ]
    }
   ],
   "source": [
    "import numpy as np\n",
    "from dezero import Variable\n",
    "from dezero import optimizers\n",
    "import dezero.functions as F\n",
    "from dezero.models import MLP\n",
    "\n",
    "np.random.seed(0)\n",
    "x = np.random.rand(100, 1)\n",
    "y = np.sin(2 * np.pi * x) + np.random.rand(100, 1)\n",
    "\n",
    "lr = 0.2\n",
    "max_iter = 10000\n",
    "hidden_size = 10\n",
    "\n",
    "model = MLP((hidden_size, 1))\n",
    "optimizer = optimizers.SGD(lr)\n",
    "optimizer.setup(model)\n",
    "\n",
    "# 또는 다음처럼 한 줄로 합칠 수 있다.\n",
    "# optimizer = optimizers.SGD(lr).setup(model)\n",
    "\n",
    "for i in range(max_iter):\n",
    "    y_pred = model(x)\n",
    "    loss = F.mean_squared_error(y, y_pred)\n",
    "\n",
    "    model.cleargrads()\n",
    "    loss.backward()\n",
    "\n",
    "    optimizer.update()\n",
    "\n",
    "    if i % 1000 == 0:\n",
    "        print(loss)"
   ]
  },
  {
   "cell_type": "code",
   "execution_count": 68,
   "metadata": {},
   "outputs": [],
   "source": [
    "class MomentumSGD(Optimizer):\n",
    "    def __init__(self, lr=0.01, momentum=0.9):\n",
    "        super().__init__()\n",
    "        self.lr = lr\n",
    "        self.momentum = momentum\n",
    "        self.vs = {}\n",
    "\n",
    "    def update_one(self, param):\n",
    "        v_key = id(param)\n",
    "        if v_key not in self.vs:\n",
    "            xp = cuda.get_array_module(param.data)\n",
    "            self.vs[v_key] = np.zeros_like(param.data)\n",
    "\n",
    "        v = self.vs[v_key]\n",
    "        v *= self.momentum\n",
    "        v -= self.lr * param.grad.data\n",
    "        param.data += v"
   ]
  },
  {
   "cell_type": "markdown",
   "metadata": {},
   "source": [
    "##### STEP47. 소프트맥스 함수와 교차 엔트로피 오차"
   ]
  },
  {
   "cell_type": "code",
   "execution_count": 69,
   "metadata": {},
   "outputs": [
    {
     "name": "stdout",
     "output_type": "stream",
     "text": [
      "variable([4 5 6])\n"
     ]
    }
   ],
   "source": [
    "import numpy as np\n",
    "from dezero import Variable\n",
    "import dezero.functions as F\n",
    "\n",
    "x = Variable(np.array([[1, 2, 3], [4, 5, 6]]))\n",
    "y = F.get_item(x, 1)\n",
    "print(y)"
   ]
  },
  {
   "cell_type": "code",
   "execution_count": 70,
   "metadata": {},
   "outputs": [
    {
     "name": "stdout",
     "output_type": "stream",
     "text": [
      "variable([[0 0 0]\n",
      "          [1 1 1]])\n"
     ]
    }
   ],
   "source": [
    "y.backward()\n",
    "print(x.grad)"
   ]
  },
  {
   "cell_type": "code",
   "execution_count": 71,
   "metadata": {},
   "outputs": [
    {
     "name": "stdout",
     "output_type": "stream",
     "text": [
      "variable([[1 2 3]\n",
      "          [1 2 3]\n",
      "          [4 5 6]])\n"
     ]
    }
   ],
   "source": [
    "x = Variable(np.array([[1, 2, 3], [4, 5, 6]]))\n",
    "indices = np.array([0, 0, 1])\n",
    "y = F.get_item(x, indices)\n",
    "print(y)"
   ]
  },
  {
   "cell_type": "code",
   "execution_count": 72,
   "metadata": {},
   "outputs": [
    {
     "name": "stdout",
     "output_type": "stream",
     "text": [
      "variable([4 5 6])\n",
      "variable([3 6])\n"
     ]
    }
   ],
   "source": [
    "Variable.__getitem__ = F.get_item\n",
    "\n",
    "y = x[1]\n",
    "print(y)\n",
    "\n",
    "y = x[:, 2]\n",
    "print(y)"
   ]
  },
  {
   "cell_type": "code",
   "execution_count": 73,
   "metadata": {},
   "outputs": [],
   "source": [
    "from dezero.models import MLP\n",
    "model = MLP((10, 3))"
   ]
  },
  {
   "cell_type": "code",
   "execution_count": 74,
   "metadata": {},
   "outputs": [
    {
     "name": "stdout",
     "output_type": "stream",
     "text": [
      "variable([[0.25337848 0.30853735 0.38821423]])\n"
     ]
    }
   ],
   "source": [
    "x = np.array([[0.2, -0.4]])\n",
    "y = model(x)\n",
    "print(y)"
   ]
  },
  {
   "cell_type": "code",
   "execution_count": 75,
   "metadata": {},
   "outputs": [],
   "source": [
    "from dezero import Variable, as_variable\n",
    "import dezero.functions as F\n",
    "\n",
    "def softmax1d(x):\n",
    "    x = as_variable(x)\n",
    "    y = F.exp(x)\n",
    "    sum_y = F.sum(y)\n",
    "    return y / sum_y"
   ]
  },
  {
   "cell_type": "code",
   "execution_count": 76,
   "metadata": {},
   "outputs": [
    {
     "name": "stdout",
     "output_type": "stream",
     "text": [
      "variable([[-0.51222398 -0.48154886 -0.19620913]])\n",
      "variable([[0.29387554 0.30302989 0.40309457]])\n"
     ]
    }
   ],
   "source": [
    "model = MLP((10, 3))\n",
    "x = np.array([[0.2, -0.4]])\n",
    "y = model(x)\n",
    "p = softmax1d(y)\n",
    "print(y)\n",
    "print(p)"
   ]
  },
  {
   "cell_type": "code",
   "execution_count": 77,
   "metadata": {},
   "outputs": [],
   "source": [
    "def softmax_simple(x, axis=1):\n",
    "    x = as_variable(x)\n",
    "    y = exp(x)\n",
    "    sum_y = sum(y, axis=axis, keepdims=True)\n",
    "    return y / sum_y"
   ]
  },
  {
   "cell_type": "code",
   "execution_count": 78,
   "metadata": {},
   "outputs": [],
   "source": [
    "def softmax_cross_entropy_simple(x, t):\n",
    "    x, t = as_variable(x), as_variable(t)\n",
    "    N = x.shape[0]\n",
    "    p = softmax(x)\n",
    "    p = clip(p, 1e-15, 1.0)  # To avoid log(0)\n",
    "    log_p = log(p)\n",
    "    tlog_p = log_p[np.arange(N), t.data]\n",
    "    y = -1 * sum(tlog_p) / N\n",
    "    return y"
   ]
  },
  {
   "cell_type": "code",
   "execution_count": 79,
   "metadata": {},
   "outputs": [
    {
     "name": "stdout",
     "output_type": "stream",
     "text": [
      "variable(1.005250977723018)\n"
     ]
    }
   ],
   "source": [
    "x = np.array([[0.2, -0.4], [0.3, 0.5], [1.3, -3.2], [2.1, 0.3]])\n",
    "t = np.array([2, 0, 1, 0])\n",
    "y = model(x)\n",
    "loss = F.softmax_cross_entropy_simple(y, t)\n",
    "print(loss)"
   ]
  },
  {
   "cell_type": "markdown",
   "metadata": {},
   "source": [
    "##### STEP48. 다중 클래스 분류"
   ]
  },
  {
   "cell_type": "code",
   "execution_count": 80,
   "metadata": {},
   "outputs": [
    {
     "name": "stdout",
     "output_type": "stream",
     "text": [
      "(300, 2)\n",
      "(300,)\n",
      "[-0.12995958 -0.00324155] 1\n",
      "[ 0.3282343  -0.54941994] 0\n"
     ]
    }
   ],
   "source": [
    "import dezero\n",
    "\n",
    "x, t = dezero.datasets.get_spiral(train=True)\n",
    "print(x.shape)\n",
    "print(t.shape)\n",
    "\n",
    "print(x[10], t[10])\n",
    "print(x[110], t[110])"
   ]
  },
  {
   "cell_type": "code",
   "execution_count": 81,
   "metadata": {},
   "outputs": [],
   "source": [
    "import math\n",
    "import numpy as np\n",
    "import matplotlib.pyplot as plt\n",
    "import dezero\n",
    "from dezero import optimizers\n",
    "import dezero.functions as F\n",
    "from dezero.models import MLP\n",
    "\n",
    "# ( 1 ) Hyperparameters\n",
    "max_epoch = 300\n",
    "batch_size = 30\n",
    "hidden_size = 10\n",
    "\n",
    "# ( 2 ) 데이터 읽기 / 모델, 옵티마이저 생성\n",
    "x, t = dezero.datasets.get_spiral(train=True)\n",
    "model = MLP((hidden_size, 3))\n",
    "optimizer = optimizers.SGD().setup(model)"
   ]
  },
  {
   "cell_type": "code",
   "execution_count": 82,
   "metadata": {},
   "outputs": [
    {
     "name": "stdout",
     "output_type": "stream",
     "text": [
      "epoch 1, loss 1.16\n",
      "epoch 2, loss 1.15\n",
      "epoch 3, loss 1.15\n",
      "epoch 4, loss 1.15\n",
      "epoch 5, loss 1.15\n",
      "epoch 6, loss 1.14\n",
      "epoch 7, loss 1.14\n",
      "epoch 8, loss 1.14\n",
      "epoch 9, loss 1.14\n",
      "epoch 10, loss 1.14\n",
      "epoch 11, loss 1.13\n",
      "epoch 12, loss 1.13\n",
      "epoch 13, loss 1.13\n",
      "epoch 14, loss 1.13\n",
      "epoch 15, loss 1.13\n",
      "epoch 16, loss 1.13\n",
      "epoch 17, loss 1.13\n",
      "epoch 18, loss 1.12\n",
      "epoch 19, loss 1.12\n",
      "epoch 20, loss 1.12\n",
      "epoch 21, loss 1.12\n",
      "epoch 22, loss 1.12\n",
      "epoch 23, loss 1.12\n",
      "epoch 24, loss 1.12\n",
      "epoch 25, loss 1.11\n",
      "epoch 26, loss 1.11\n",
      "epoch 27, loss 1.11\n",
      "epoch 28, loss 1.11\n",
      "epoch 29, loss 1.11\n",
      "epoch 30, loss 1.11\n",
      "epoch 31, loss 1.11\n",
      "epoch 32, loss 1.11\n",
      "epoch 33, loss 1.10\n",
      "epoch 34, loss 1.10\n",
      "epoch 35, loss 1.10\n",
      "epoch 36, loss 1.10\n",
      "epoch 37, loss 1.10\n",
      "epoch 38, loss 1.10\n",
      "epoch 39, loss 1.10\n",
      "epoch 40, loss 1.10\n",
      "epoch 41, loss 1.10\n",
      "epoch 42, loss 1.09\n",
      "epoch 43, loss 1.09\n",
      "epoch 44, loss 1.09\n",
      "epoch 45, loss 1.09\n",
      "epoch 46, loss 1.09\n",
      "epoch 47, loss 1.09\n",
      "epoch 48, loss 1.09\n",
      "epoch 49, loss 1.09\n",
      "epoch 50, loss 1.09\n",
      "epoch 51, loss 1.08\n",
      "epoch 52, loss 1.08\n",
      "epoch 53, loss 1.08\n",
      "epoch 54, loss 1.08\n",
      "epoch 55, loss 1.08\n",
      "epoch 56, loss 1.08\n",
      "epoch 57, loss 1.08\n",
      "epoch 58, loss 1.08\n",
      "epoch 59, loss 1.08\n",
      "epoch 60, loss 1.07\n",
      "epoch 61, loss 1.07\n",
      "epoch 62, loss 1.07\n",
      "epoch 63, loss 1.07\n",
      "epoch 64, loss 1.07\n",
      "epoch 65, loss 1.07\n",
      "epoch 66, loss 1.07\n",
      "epoch 67, loss 1.07\n",
      "epoch 68, loss 1.07\n",
      "epoch 69, loss 1.07\n",
      "epoch 70, loss 1.06\n",
      "epoch 71, loss 1.06\n",
      "epoch 72, loss 1.06\n",
      "epoch 73, loss 1.06\n",
      "epoch 74, loss 1.06\n",
      "epoch 75, loss 1.06\n",
      "epoch 76, loss 1.06\n",
      "epoch 77, loss 1.06\n",
      "epoch 78, loss 1.06\n",
      "epoch 79, loss 1.06\n",
      "epoch 80, loss 1.05\n",
      "epoch 81, loss 1.05\n",
      "epoch 82, loss 1.05\n",
      "epoch 83, loss 1.05\n",
      "epoch 84, loss 1.05\n",
      "epoch 85, loss 1.05\n",
      "epoch 86, loss 1.05\n",
      "epoch 87, loss 1.05\n",
      "epoch 88, loss 1.05\n",
      "epoch 89, loss 1.05\n",
      "epoch 90, loss 1.04\n",
      "epoch 91, loss 1.04\n",
      "epoch 92, loss 1.04\n",
      "epoch 93, loss 1.04\n",
      "epoch 94, loss 1.04\n",
      "epoch 95, loss 1.04\n",
      "epoch 96, loss 1.04\n",
      "epoch 97, loss 1.04\n",
      "epoch 98, loss 1.04\n",
      "epoch 99, loss 1.04\n",
      "epoch 100, loss 1.04\n",
      "epoch 101, loss 1.03\n",
      "epoch 102, loss 1.03\n",
      "epoch 103, loss 1.03\n",
      "epoch 104, loss 1.03\n",
      "epoch 105, loss 1.03\n",
      "epoch 106, loss 1.03\n",
      "epoch 107, loss 1.03\n",
      "epoch 108, loss 1.03\n",
      "epoch 109, loss 1.03\n",
      "epoch 110, loss 1.03\n",
      "epoch 111, loss 1.03\n",
      "epoch 112, loss 1.02\n",
      "epoch 113, loss 1.02\n",
      "epoch 114, loss 1.02\n",
      "epoch 115, loss 1.02\n",
      "epoch 116, loss 1.02\n",
      "epoch 117, loss 1.02\n",
      "epoch 118, loss 1.02\n",
      "epoch 119, loss 1.02\n",
      "epoch 120, loss 1.02\n",
      "epoch 121, loss 1.02\n",
      "epoch 122, loss 1.02\n",
      "epoch 123, loss 1.02\n",
      "epoch 124, loss 1.02\n",
      "epoch 125, loss 1.01\n",
      "epoch 126, loss 1.01\n",
      "epoch 127, loss 1.01\n",
      "epoch 128, loss 1.01\n",
      "epoch 129, loss 1.01\n",
      "epoch 130, loss 1.01\n",
      "epoch 131, loss 1.01\n",
      "epoch 132, loss 1.01\n",
      "epoch 133, loss 1.01\n",
      "epoch 134, loss 1.01\n",
      "epoch 135, loss 1.01\n",
      "epoch 136, loss 1.01\n",
      "epoch 137, loss 1.00\n",
      "epoch 138, loss 1.00\n",
      "epoch 139, loss 1.00\n",
      "epoch 140, loss 1.00\n",
      "epoch 141, loss 1.00\n",
      "epoch 142, loss 1.00\n",
      "epoch 143, loss 1.00\n",
      "epoch 144, loss 1.00\n",
      "epoch 145, loss 1.00\n",
      "epoch 146, loss 1.00\n",
      "epoch 147, loss 1.00\n",
      "epoch 148, loss 1.00\n",
      "epoch 149, loss 0.99\n",
      "epoch 150, loss 0.99\n",
      "epoch 151, loss 0.99\n",
      "epoch 152, loss 0.99\n",
      "epoch 153, loss 0.99\n",
      "epoch 154, loss 0.99\n",
      "epoch 155, loss 0.99\n",
      "epoch 156, loss 0.99\n",
      "epoch 157, loss 0.99\n",
      "epoch 158, loss 0.99\n",
      "epoch 159, loss 0.99\n",
      "epoch 160, loss 0.99\n",
      "epoch 161, loss 0.99\n",
      "epoch 162, loss 0.99\n",
      "epoch 163, loss 0.98\n",
      "epoch 164, loss 0.98\n",
      "epoch 165, loss 0.98\n",
      "epoch 166, loss 0.98\n",
      "epoch 167, loss 0.98\n",
      "epoch 168, loss 0.98\n",
      "epoch 169, loss 0.98\n",
      "epoch 170, loss 0.98\n",
      "epoch 171, loss 0.98\n",
      "epoch 172, loss 0.98\n",
      "epoch 173, loss 0.98\n",
      "epoch 174, loss 0.98\n",
      "epoch 175, loss 0.98\n",
      "epoch 176, loss 0.98\n",
      "epoch 177, loss 0.97\n",
      "epoch 178, loss 0.97\n",
      "epoch 179, loss 0.97\n",
      "epoch 180, loss 0.97\n",
      "epoch 181, loss 0.97\n",
      "epoch 182, loss 0.97\n",
      "epoch 183, loss 0.97\n",
      "epoch 184, loss 0.97\n",
      "epoch 185, loss 0.97\n",
      "epoch 186, loss 0.97\n",
      "epoch 187, loss 0.97\n",
      "epoch 188, loss 0.97\n",
      "epoch 189, loss 0.97\n",
      "epoch 190, loss 0.97\n",
      "epoch 191, loss 0.97\n",
      "epoch 192, loss 0.96\n",
      "epoch 193, loss 0.96\n",
      "epoch 194, loss 0.96\n",
      "epoch 195, loss 0.96\n",
      "epoch 196, loss 0.96\n",
      "epoch 197, loss 0.96\n",
      "epoch 198, loss 0.96\n",
      "epoch 199, loss 0.96\n",
      "epoch 200, loss 0.96\n",
      "epoch 201, loss 0.96\n",
      "epoch 202, loss 0.96\n",
      "epoch 203, loss 0.96\n",
      "epoch 204, loss 0.96\n",
      "epoch 205, loss 0.96\n",
      "epoch 206, loss 0.96\n",
      "epoch 207, loss 0.95\n",
      "epoch 208, loss 0.95\n",
      "epoch 209, loss 0.95\n",
      "epoch 210, loss 0.95\n",
      "epoch 211, loss 0.95\n",
      "epoch 212, loss 0.95\n",
      "epoch 213, loss 0.95\n",
      "epoch 214, loss 0.95\n",
      "epoch 215, loss 0.95\n",
      "epoch 216, loss 0.95\n",
      "epoch 217, loss 0.95\n",
      "epoch 218, loss 0.95\n",
      "epoch 219, loss 0.95\n",
      "epoch 220, loss 0.95\n",
      "epoch 221, loss 0.95\n",
      "epoch 222, loss 0.94\n",
      "epoch 223, loss 0.94\n",
      "epoch 224, loss 0.94\n",
      "epoch 225, loss 0.94\n",
      "epoch 226, loss 0.94\n",
      "epoch 227, loss 0.94\n",
      "epoch 228, loss 0.94\n",
      "epoch 229, loss 0.94\n",
      "epoch 230, loss 0.94\n",
      "epoch 231, loss 0.94\n",
      "epoch 232, loss 0.94\n",
      "epoch 233, loss 0.94\n",
      "epoch 234, loss 0.94\n",
      "epoch 235, loss 0.94\n",
      "epoch 236, loss 0.94\n",
      "epoch 237, loss 0.94\n",
      "epoch 238, loss 0.94\n",
      "epoch 239, loss 0.94\n",
      "epoch 240, loss 0.93\n",
      "epoch 241, loss 0.93\n",
      "epoch 242, loss 0.93\n",
      "epoch 243, loss 0.93\n",
      "epoch 244, loss 0.93\n",
      "epoch 245, loss 0.93\n",
      "epoch 246, loss 0.93\n",
      "epoch 247, loss 0.93\n",
      "epoch 248, loss 0.93\n",
      "epoch 249, loss 0.93\n",
      "epoch 250, loss 0.93\n",
      "epoch 251, loss 0.93\n",
      "epoch 252, loss 0.93\n",
      "epoch 253, loss 0.93\n",
      "epoch 254, loss 0.93\n",
      "epoch 255, loss 0.93\n",
      "epoch 256, loss 0.93\n",
      "epoch 257, loss 0.92\n",
      "epoch 258, loss 0.92\n",
      "epoch 259, loss 0.92\n",
      "epoch 260, loss 0.92\n",
      "epoch 261, loss 0.92\n",
      "epoch 262, loss 0.92\n",
      "epoch 263, loss 0.92\n",
      "epoch 264, loss 0.92\n",
      "epoch 265, loss 0.92\n",
      "epoch 266, loss 0.92\n",
      "epoch 267, loss 0.92\n",
      "epoch 268, loss 0.92\n",
      "epoch 269, loss 0.92\n",
      "epoch 270, loss 0.92\n",
      "epoch 271, loss 0.92\n",
      "epoch 272, loss 0.92\n",
      "epoch 273, loss 0.92\n",
      "epoch 274, loss 0.92\n",
      "epoch 275, loss 0.91\n",
      "epoch 276, loss 0.91\n",
      "epoch 277, loss 0.91\n",
      "epoch 278, loss 0.91\n",
      "epoch 279, loss 0.91\n",
      "epoch 280, loss 0.91\n",
      "epoch 281, loss 0.91\n",
      "epoch 282, loss 0.91\n",
      "epoch 283, loss 0.91\n",
      "epoch 284, loss 0.91\n",
      "epoch 285, loss 0.91\n",
      "epoch 286, loss 0.91\n",
      "epoch 287, loss 0.91\n",
      "epoch 288, loss 0.91\n",
      "epoch 289, loss 0.91\n",
      "epoch 290, loss 0.91\n",
      "epoch 291, loss 0.91\n",
      "epoch 292, loss 0.91\n",
      "epoch 293, loss 0.91\n",
      "epoch 294, loss 0.90\n",
      "epoch 295, loss 0.90\n",
      "epoch 296, loss 0.90\n",
      "epoch 297, loss 0.90\n",
      "epoch 298, loss 0.90\n",
      "epoch 299, loss 0.90\n",
      "epoch 300, loss 0.90\n"
     ]
    }
   ],
   "source": [
    "data_size = len(x)\n",
    "max_iter = math.ceil(data_size / batch_size)\n",
    "\n",
    "for epoch in range(max_epoch):\n",
    "    # ( 3 ) Shuffle index for data\n",
    "    index = np.random.permutation(data_size)\n",
    "    sum_loss = 0\n",
    "\n",
    "    for i in range(max_iter):\n",
    "        # ( 4 ) 미니배치 생성\n",
    "        batch_index = index[i * batch_size:(i + 1) * batch_size]\n",
    "        batch_x = x[batch_index]\n",
    "        batch_t = t[batch_index]\n",
    "\n",
    "        # ( 5 ) 기울기 산출 / 매개변수 갱신\n",
    "        y = model(batch_x)\n",
    "        loss = F.softmax_cross_entropy_simple(y, batch_t)\n",
    "        model.cleargrads()\n",
    "        loss.backward()\n",
    "        optimizer.update()\n",
    "        sum_loss += float(loss.data) * len(batch_t)\n",
    "\n",
    "    # ( 6 ) Print loss every epoch\n",
    "    avg_loss = sum_loss / data_size\n",
    "    print('epoch %d, loss %.2f' % (epoch + 1, avg_loss))"
   ]
  },
  {
   "cell_type": "markdown",
   "metadata": {},
   "source": [
    "##### STEP49. Dataset 클래스와 전처리"
   ]
  },
  {
   "cell_type": "code",
   "execution_count": 83,
   "metadata": {},
   "outputs": [],
   "source": [
    "class Dataset:\n",
    "    def __init__(self, train=True):\n",
    "        self.train = train\n",
    "        self.transform = transform\n",
    "        self.target_transform = target_transform\n",
    "        if self.transform is None:\n",
    "            self.transform = lambda x: x\n",
    "        if self.target_transform is None:\n",
    "            self.target_transform = lambda x: x\n",
    "        self.data = None\n",
    "        self.label = None\n",
    "        self.prepare()\n",
    "\n",
    "    def __getitem__(self, index):\n",
    "        assert np.isscalar(index)\n",
    "        if self.label is None:\n",
    "            return self.transform(self.data[index]), None\n",
    "        else:\n",
    "            return self.transform(self.data[index]), \\\n",
    "                self.target_transform(self.label[index])\n",
    "        \n",
    "    def __len__(self):\n",
    "        return len(self.data)\n",
    "    \n",
    "    def prepare(self):\n",
    "        pass"
   ]
  },
  {
   "cell_type": "code",
   "execution_count": 84,
   "metadata": {},
   "outputs": [],
   "source": [
    "class Spiral(Dataset):\n",
    "    def prepare(self):\n",
    "        self.data, self.label = get_spiral(self.train)"
   ]
  },
  {
   "cell_type": "code",
   "execution_count": 85,
   "metadata": {},
   "outputs": [
    {
     "name": "stdout",
     "output_type": "stream",
     "text": [
      "(array([-0.13981389, -0.00721657], dtype=float32), 1)\n",
      "300\n"
     ]
    }
   ],
   "source": [
    "import dezero.datasets as ds\n",
    "\n",
    "train_set = ds.Spiral(train=True)\n",
    "print(train_set[0])\n",
    "print(len(train_set))"
   ]
  },
  {
   "cell_type": "code",
   "execution_count": 86,
   "metadata": {},
   "outputs": [],
   "source": [
    "class BigData(Dataset):\n",
    "    def __getitem__(self, index):\n",
    "        x = np.load('data/{}.npy'.format(index))\n",
    "        t = np.load('label/{}.npy'.format(index))\n",
    "        return x, t\n",
    "    \n",
    "    def __len__():\n",
    "        return 1000000"
   ]
  },
  {
   "cell_type": "code",
   "execution_count": 87,
   "metadata": {},
   "outputs": [
    {
     "name": "stdout",
     "output_type": "stream",
     "text": [
      "(3, 2)\n",
      "(3,)\n"
     ]
    }
   ],
   "source": [
    "train_set = ds.Spiral()\n",
    "\n",
    "batch_index = [0, 1, 2]\n",
    "batch = [train_set[i] for i in batch_index]\n",
    "\n",
    "x = np.array([example[0] for example in batch])\n",
    "t = np.array([example[1] for example in batch])\n",
    "\n",
    "print(x.shape)\n",
    "print(t.shape)"
   ]
  },
  {
   "cell_type": "code",
   "execution_count": 88,
   "metadata": {},
   "outputs": [
    {
     "name": "stdout",
     "output_type": "stream",
     "text": [
      "epoch 1, loss 0.07\n",
      "epoch 2, loss 0.06\n",
      "epoch 3, loss 0.05\n",
      "epoch 4, loss 0.04\n",
      "epoch 5, loss 0.04\n",
      "epoch 6, loss 0.03\n",
      "epoch 7, loss 0.02\n",
      "epoch 8, loss 0.02\n",
      "epoch 9, loss 0.02\n",
      "epoch 10, loss 0.01\n",
      "epoch 11, loss 0.01\n",
      "epoch 12, loss 0.01\n",
      "epoch 13, loss 0.01\n",
      "epoch 14, loss 0.01\n",
      "epoch 15, loss 0.01\n",
      "epoch 16, loss 0.00\n",
      "epoch 17, loss 0.00\n",
      "epoch 18, loss 0.00\n",
      "epoch 19, loss 0.00\n",
      "epoch 20, loss 0.00\n",
      "epoch 21, loss 0.00\n",
      "epoch 22, loss 0.00\n",
      "epoch 23, loss 0.00\n",
      "epoch 24, loss 0.00\n",
      "epoch 25, loss 0.00\n",
      "epoch 26, loss 0.00\n",
      "epoch 27, loss 0.00\n",
      "epoch 28, loss 0.00\n",
      "epoch 29, loss 0.00\n",
      "epoch 30, loss 0.00\n",
      "epoch 31, loss 0.00\n",
      "epoch 32, loss 0.00\n",
      "epoch 33, loss 0.00\n",
      "epoch 34, loss 0.00\n",
      "epoch 35, loss 0.00\n",
      "epoch 36, loss 0.00\n",
      "epoch 37, loss 0.00\n",
      "epoch 38, loss 0.00\n",
      "epoch 39, loss 0.00\n",
      "epoch 40, loss 0.00\n",
      "epoch 41, loss 0.00\n",
      "epoch 42, loss 0.00\n",
      "epoch 43, loss 0.00\n",
      "epoch 44, loss 0.00\n",
      "epoch 45, loss 0.00\n",
      "epoch 46, loss 0.00\n",
      "epoch 47, loss 0.00\n",
      "epoch 48, loss 0.00\n",
      "epoch 49, loss 0.00\n",
      "epoch 50, loss 0.00\n",
      "epoch 51, loss 0.00\n",
      "epoch 52, loss 0.00\n",
      "epoch 53, loss 0.00\n",
      "epoch 54, loss 0.00\n",
      "epoch 55, loss 0.00\n",
      "epoch 56, loss 0.00\n",
      "epoch 57, loss 0.00\n",
      "epoch 58, loss 0.00\n",
      "epoch 59, loss 0.00\n",
      "epoch 60, loss 0.00\n",
      "epoch 61, loss 0.00\n",
      "epoch 62, loss 0.00\n",
      "epoch 63, loss 0.00\n",
      "epoch 64, loss 0.00\n",
      "epoch 65, loss 0.00\n",
      "epoch 66, loss 0.00\n",
      "epoch 67, loss 0.00\n",
      "epoch 68, loss 0.00\n",
      "epoch 69, loss 0.00\n",
      "epoch 70, loss 0.00\n",
      "epoch 71, loss 0.00\n",
      "epoch 72, loss 0.00\n",
      "epoch 73, loss 0.00\n",
      "epoch 74, loss 0.00\n",
      "epoch 75, loss 0.00\n",
      "epoch 76, loss 0.00\n",
      "epoch 77, loss 0.00\n",
      "epoch 78, loss 0.00\n",
      "epoch 79, loss 0.00\n",
      "epoch 80, loss 0.00\n",
      "epoch 81, loss 0.00\n",
      "epoch 82, loss 0.00\n",
      "epoch 83, loss 0.00\n",
      "epoch 84, loss 0.00\n",
      "epoch 85, loss 0.00\n",
      "epoch 86, loss 0.00\n",
      "epoch 87, loss 0.00\n",
      "epoch 88, loss 0.00\n",
      "epoch 89, loss 0.00\n",
      "epoch 90, loss 0.00\n",
      "epoch 91, loss 0.00\n",
      "epoch 92, loss 0.00\n",
      "epoch 93, loss 0.00\n",
      "epoch 94, loss 0.00\n",
      "epoch 95, loss 0.00\n",
      "epoch 96, loss 0.00\n",
      "epoch 97, loss 0.00\n",
      "epoch 98, loss 0.00\n",
      "epoch 99, loss 0.00\n",
      "epoch 100, loss 0.00\n",
      "epoch 101, loss 0.00\n",
      "epoch 102, loss 0.00\n",
      "epoch 103, loss 0.00\n",
      "epoch 104, loss 0.00\n",
      "epoch 105, loss 0.00\n",
      "epoch 106, loss 0.00\n",
      "epoch 107, loss 0.00\n",
      "epoch 108, loss 0.00\n",
      "epoch 109, loss 0.00\n",
      "epoch 110, loss 0.00\n",
      "epoch 111, loss 0.00\n",
      "epoch 112, loss 0.00\n",
      "epoch 113, loss 0.00\n",
      "epoch 114, loss 0.00\n",
      "epoch 115, loss 0.00\n",
      "epoch 116, loss 0.00\n",
      "epoch 117, loss 0.00\n",
      "epoch 118, loss 0.00\n",
      "epoch 119, loss 0.00\n",
      "epoch 120, loss 0.00\n",
      "epoch 121, loss 0.00\n",
      "epoch 122, loss 0.00\n",
      "epoch 123, loss 0.00\n",
      "epoch 124, loss 0.00\n",
      "epoch 125, loss 0.00\n",
      "epoch 126, loss 0.00\n",
      "epoch 127, loss 0.00\n",
      "epoch 128, loss 0.00\n",
      "epoch 129, loss 0.00\n",
      "epoch 130, loss 0.00\n",
      "epoch 131, loss 0.00\n",
      "epoch 132, loss 0.00\n",
      "epoch 133, loss 0.00\n",
      "epoch 134, loss 0.00\n",
      "epoch 135, loss 0.00\n",
      "epoch 136, loss 0.00\n",
      "epoch 137, loss 0.00\n",
      "epoch 138, loss 0.00\n",
      "epoch 139, loss 0.00\n",
      "epoch 140, loss 0.00\n",
      "epoch 141, loss 0.00\n",
      "epoch 142, loss 0.00\n",
      "epoch 143, loss 0.00\n",
      "epoch 144, loss 0.00\n",
      "epoch 145, loss 0.00\n",
      "epoch 146, loss 0.00\n",
      "epoch 147, loss 0.00\n",
      "epoch 148, loss 0.00\n",
      "epoch 149, loss 0.00\n",
      "epoch 150, loss 0.00\n",
      "epoch 151, loss 0.00\n",
      "epoch 152, loss 0.00\n",
      "epoch 153, loss 0.00\n",
      "epoch 154, loss 0.00\n",
      "epoch 155, loss 0.00\n",
      "epoch 156, loss 0.00\n",
      "epoch 157, loss 0.00\n",
      "epoch 158, loss 0.00\n",
      "epoch 159, loss 0.00\n",
      "epoch 160, loss 0.00\n",
      "epoch 161, loss 0.00\n",
      "epoch 162, loss 0.00\n",
      "epoch 163, loss 0.00\n",
      "epoch 164, loss 0.00\n",
      "epoch 165, loss 0.00\n",
      "epoch 166, loss 0.00\n",
      "epoch 167, loss 0.00\n",
      "epoch 168, loss 0.00\n",
      "epoch 169, loss 0.00\n",
      "epoch 170, loss 0.00\n",
      "epoch 171, loss 0.00\n",
      "epoch 172, loss 0.00\n",
      "epoch 173, loss 0.00\n",
      "epoch 174, loss 0.00\n",
      "epoch 175, loss 0.00\n",
      "epoch 176, loss 0.00\n",
      "epoch 177, loss 0.00\n",
      "epoch 178, loss 0.00\n",
      "epoch 179, loss 0.00\n",
      "epoch 180, loss 0.00\n",
      "epoch 181, loss 0.00\n",
      "epoch 182, loss 0.00\n",
      "epoch 183, loss 0.00\n",
      "epoch 184, loss 0.00\n",
      "epoch 185, loss 0.00\n",
      "epoch 186, loss 0.00\n",
      "epoch 187, loss 0.00\n",
      "epoch 188, loss 0.00\n",
      "epoch 189, loss 0.00\n",
      "epoch 190, loss 0.00\n",
      "epoch 191, loss 0.00\n",
      "epoch 192, loss 0.00\n",
      "epoch 193, loss 0.00\n",
      "epoch 194, loss 0.00\n",
      "epoch 195, loss 0.00\n",
      "epoch 196, loss 0.00\n",
      "epoch 197, loss 0.00\n",
      "epoch 198, loss 0.00\n",
      "epoch 199, loss 0.00\n",
      "epoch 200, loss 0.00\n",
      "epoch 201, loss 0.00\n",
      "epoch 202, loss 0.00\n",
      "epoch 203, loss 0.00\n",
      "epoch 204, loss 0.00\n",
      "epoch 205, loss 0.00\n",
      "epoch 206, loss 0.00\n",
      "epoch 207, loss 0.00\n",
      "epoch 208, loss 0.00\n",
      "epoch 209, loss 0.00\n",
      "epoch 210, loss 0.00\n",
      "epoch 211, loss 0.00\n",
      "epoch 212, loss 0.00\n",
      "epoch 213, loss 0.00\n",
      "epoch 214, loss 0.00\n",
      "epoch 215, loss 0.00\n",
      "epoch 216, loss 0.00\n",
      "epoch 217, loss 0.00\n",
      "epoch 218, loss 0.00\n",
      "epoch 219, loss 0.00\n",
      "epoch 220, loss 0.00\n",
      "epoch 221, loss 0.00\n",
      "epoch 222, loss 0.00\n",
      "epoch 223, loss 0.00\n",
      "epoch 224, loss 0.00\n",
      "epoch 225, loss 0.00\n",
      "epoch 226, loss 0.00\n",
      "epoch 227, loss 0.00\n",
      "epoch 228, loss 0.00\n",
      "epoch 229, loss 0.00\n",
      "epoch 230, loss 0.00\n",
      "epoch 231, loss 0.00\n",
      "epoch 232, loss 0.00\n",
      "epoch 233, loss 0.00\n",
      "epoch 234, loss 0.00\n",
      "epoch 235, loss 0.00\n",
      "epoch 236, loss 0.00\n",
      "epoch 237, loss 0.00\n",
      "epoch 238, loss 0.00\n",
      "epoch 239, loss 0.00\n",
      "epoch 240, loss 0.00\n",
      "epoch 241, loss 0.00\n",
      "epoch 242, loss 0.00\n",
      "epoch 243, loss 0.00\n",
      "epoch 244, loss 0.00\n",
      "epoch 245, loss 0.00\n",
      "epoch 246, loss 0.00\n",
      "epoch 247, loss 0.00\n",
      "epoch 248, loss 0.00\n",
      "epoch 249, loss 0.00\n",
      "epoch 250, loss 0.00\n",
      "epoch 251, loss 0.00\n",
      "epoch 252, loss 0.00\n",
      "epoch 253, loss 0.00\n",
      "epoch 254, loss 0.00\n",
      "epoch 255, loss 0.00\n",
      "epoch 256, loss 0.00\n",
      "epoch 257, loss 0.00\n",
      "epoch 258, loss 0.00\n",
      "epoch 259, loss 0.00\n",
      "epoch 260, loss 0.00\n",
      "epoch 261, loss 0.00\n",
      "epoch 262, loss 0.00\n",
      "epoch 263, loss 0.00\n",
      "epoch 264, loss 0.00\n",
      "epoch 265, loss 0.00\n",
      "epoch 266, loss 0.00\n",
      "epoch 267, loss 0.00\n",
      "epoch 268, loss 0.00\n",
      "epoch 269, loss 0.00\n",
      "epoch 270, loss 0.00\n",
      "epoch 271, loss 0.00\n",
      "epoch 272, loss 0.00\n",
      "epoch 273, loss 0.00\n",
      "epoch 274, loss 0.00\n",
      "epoch 275, loss 0.00\n",
      "epoch 276, loss 0.00\n",
      "epoch 277, loss 0.00\n",
      "epoch 278, loss 0.00\n",
      "epoch 279, loss 0.00\n",
      "epoch 280, loss 0.00\n",
      "epoch 281, loss 0.00\n",
      "epoch 282, loss 0.00\n",
      "epoch 283, loss 0.00\n",
      "epoch 284, loss 0.00\n",
      "epoch 285, loss 0.00\n",
      "epoch 286, loss 0.00\n",
      "epoch 287, loss 0.00\n",
      "epoch 288, loss 0.00\n",
      "epoch 289, loss 0.00\n",
      "epoch 290, loss 0.00\n",
      "epoch 291, loss 0.00\n",
      "epoch 292, loss 0.00\n",
      "epoch 293, loss 0.00\n",
      "epoch 294, loss 0.00\n",
      "epoch 295, loss 0.00\n",
      "epoch 296, loss 0.00\n",
      "epoch 297, loss 0.00\n",
      "epoch 298, loss 0.00\n",
      "epoch 299, loss 0.00\n",
      "epoch 300, loss 0.00\n"
     ]
    }
   ],
   "source": [
    "max_epoch = 300\n",
    "batch_size = 30\n",
    "hidden_size = 10\n",
    "lr = 1.0\n",
    "\n",
    "train_set = dezero.datasets.Spiral()\n",
    "model = MLP((hidden_size, 3))\n",
    "optimizer = optimizers.SGD(lr).setup(model)\n",
    "\n",
    "data_size = len(train_set)\n",
    "max_iter = math.ceil(data_size / batch_size)\n",
    "\n",
    "for epoch in range(max_epoch):\n",
    "    index = np.random.permutation(data_size)\n",
    "    sum_loss = 0\n",
    "\n",
    "    for i in range(max_iter):\n",
    "        # 미니배치 꺼내기\n",
    "        batch = [train_set[i] for i in batch_index]\n",
    "        batch_x = np.array([example[0] for example in batch])\n",
    "        batch_t = np.array([example[1] for example in batch])\n",
    "\n",
    "        y = model(batch_x)\n",
    "        loss = F.softmax_cross_entropy_simple(y, batch_t)\n",
    "        model.cleargrads()\n",
    "        loss.backward()\n",
    "        optimizer.update()\n",
    "\n",
    "        sum_loss += float(loss.data) * len(batch_t)\n",
    "\n",
    "    # 에포크마다 손실 출력\n",
    "    avg_loss = sum_loss / data_size\n",
    "    print('epoch %d, loss %.2f' % (epoch + 1, avg_loss))"
   ]
  },
  {
   "cell_type": "code",
   "execution_count": 89,
   "metadata": {},
   "outputs": [],
   "source": [
    "class Dataset:\n",
    "    def __init__(self, train=True, transform=None, target_transform=None):\n",
    "        self.train = train\n",
    "        self.transform = transform\n",
    "        self.target_transform = target_transform\n",
    "        if self.transform is None:\n",
    "            self.transform = lambda x: x\n",
    "        if self.target_transform is None:\n",
    "            self.target_transform = lambda x: x\n",
    "        self.data = None\n",
    "        self.label = None\n",
    "        self.prepare()\n",
    "\n",
    "    def __getitem__(self, index):\n",
    "        assert np.isscalar(index)\n",
    "        if self.label is None:\n",
    "            return self.transform(self.data[index]), None\n",
    "        else:\n",
    "            return self.transform(self.data[index]), \\\n",
    "                self.target_transform(self.label[index])\n",
    "        \n",
    "    def __len__(self):\n",
    "        return len(self.data)\n",
    "    \n",
    "    def prepare(self):\n",
    "        pass"
   ]
  },
  {
   "cell_type": "code",
   "execution_count": 90,
   "metadata": {},
   "outputs": [],
   "source": [
    "def f(x):\n",
    "    y = x / 2.0\n",
    "    return y\n",
    "\n",
    "train_set = dezero.datasets.Spiral(transform=f)"
   ]
  },
  {
   "cell_type": "code",
   "execution_count": 91,
   "metadata": {},
   "outputs": [],
   "source": [
    "from dezero import transforms\n",
    "\n",
    "f = transforms.Normalize(mean=0.0, std=2.0)\n",
    "train_set = dezero.datasets.Spiral(transform=f)"
   ]
  },
  {
   "cell_type": "code",
   "execution_count": 92,
   "metadata": {},
   "outputs": [],
   "source": [
    "f = transforms.Compose([transforms.Normalize(mean=0.0, std=2.0), \n",
    "                        transforms.AsType(np.float64)])"
   ]
  }
 ],
 "metadata": {
  "kernelspec": {
   "display_name": "school",
   "language": "python",
   "name": "python3"
  },
  "language_info": {
   "codemirror_mode": {
    "name": "ipython",
    "version": 3
   },
   "file_extension": ".py",
   "mimetype": "text/x-python",
   "name": "python",
   "nbconvert_exporter": "python",
   "pygments_lexer": "ipython3",
   "version": "3.12.2"
  }
 },
 "nbformat": 4,
 "nbformat_minor": 2
}

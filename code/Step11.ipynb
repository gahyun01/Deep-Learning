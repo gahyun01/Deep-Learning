{
 "cells": [
  {
   "cell_type": "code",
   "execution_count": 1,
   "metadata": {},
   "outputs": [
    {
     "data": {
      "text/plain": [
       "' 제 2고지 자연스러운 코드로 '"
      ]
     },
     "execution_count": 1,
     "metadata": {},
     "output_type": "execute_result"
    }
   ],
   "source": [
    "\"\"\" 제 2고지 자연스러운 코드로 \"\"\""
   ]
  },
  {
   "cell_type": "code",
   "execution_count": 2,
   "metadata": {},
   "outputs": [],
   "source": [
    "\"\"\" STEP11. 가변 길이 인수 ( 순전파 편 ) \"\"\"\n",
    "\n",
    "\n",
    "import numpy as np\n",
    "\n",
    "# ndarray 인스턴스만 취급하고록 바꿈 ( 다른게 들어오면 오류 )\n",
    "\n",
    "# Variable이라는 상자 생성\n",
    "class Variable:\n",
    "    def __init__(self, data): # 생성자\n",
    "        # 입력 데이터가 None이 아닌 경우, \n",
    "        # 입력 데이터의 타입이 np.ndarray인지 확인\n",
    "        if data is not None:\n",
    "            if not isinstance(data, np.ndarray):\n",
    "                raise TypeError(\n",
    "                    '{}은(는) 지원하지 않습니다.'.format(type(data)))\n",
    "         \n",
    "        self.data = data # 변수의 데이터를 입력 데이터로 설정\n",
    "\n",
    "        # 변수의 기울기 초기화\n",
    "        self.grad = None # 미분값 저장하기 위한 변수\n",
    "\n",
    "        # 변수를 생성한 함수(연산) 초기화\n",
    "        self.creator = None # 연산을 나타내는 객체\n",
    "\n",
    "    # 해당 변수가 어떤 함수에 의해 만들어졌는지를 저장\n",
    "    def set_creator(self, func):\n",
    "        self.creator = func\n",
    "\n",
    "    # 역전파를 자동화 할 수 있도록 새로운 메서드 생성\n",
    "    # Step7과 다른점 : 처리 효율을 개선하고 앞으로 확장을 대비\n",
    "    \"\"\" # 재귀를 사용한 구현\n",
    "        def backward(self):\n",
    "        f = self.creator # 함수를 가져온다.\n",
    "        if f is not None:\n",
    "            x = f.input # 2. 함수의 입력을 가져온다.\n",
    "\n",
    "            # 함수의 backward 메서드를 호출한다.\n",
    "            x.grad = f.backward(self.grad)\n",
    "\n",
    "            # 하나 앞 변수의 backward 메서드를 호출한다. ( 재귀 )\n",
    "            x.backward() \"\"\"\n",
    "\n",
    "    # 반복문을 이용한 구현\n",
    "    def backward(self):\n",
    "        # y.grad = np.array(1.0) 생략을 위한 if문\n",
    "        if self.grad is None:\n",
    "            self.grad = np.ones_like(self.data)\n",
    "\n",
    "        funcs = [self.creator]# 함수를 리스트에 저장\n",
    "        while funcs:\n",
    "            f = funcs.pop() # 함수를 가져온다.\n",
    "            x, y = f.input, f.output # 함수의 입출력을 가져온다.\n",
    "            x.grad = f.backward(y.grad) # backward 메서드를 호출한다.\n",
    "\n",
    "            if x.creator is not None:\n",
    "                # 하나 앞의 함수를 리스트에 추가한다.\n",
    "                funcs.append(x.creator)"
   ]
  },
  {
   "cell_type": "code",
   "execution_count": 3,
   "metadata": {},
   "outputs": [],
   "source": [
    "# 주어진 입력을 NumPy 배열로 변환하는 함수\n",
    "def as_array(x):\n",
    "    if np.isscalar(x):  # 입력이 스칼라인지 확인\n",
    "        return np.array(x)  # 스칼라인 경우, 배열로 변환하여 반환\n",
    "    return x  # 스칼라가 아닌 경우, 그대로 반환"
   ]
  },
  {
   "cell_type": "code",
   "execution_count": 4,
   "metadata": {},
   "outputs": [],
   "source": [
    "# Variable 인스턴스를 변수로 다룰 수 있는 함수를 Function클래스로 구현\n",
    "class Function:\n",
    "    def __call__(self, inputs):\n",
    "        # 리스트 xs를 생성할 때, 리스트 내포 사용\n",
    "        # 리스트의 각 원소 x에 대해 각각 데이터 ( x.data ) 를 꺼냄\n",
    "        xs = [x.data for x in inputs]\n",
    "        \n",
    "        ys = self.forward(xs) # forward 메서드에서 구체적인 계산을 함\n",
    "\n",
    "        # ys의 각 원소에 대해 Variable 인스턴스 생성, outputs 리스트에 저장\n",
    "        outputs = [Variable(as_array(y)) for y in ys]\n",
    "\n",
    "        # 각 output Variable 인스턴스의 creator를 현재 Function 객체로 설정\n",
    "        for output in outputs:\n",
    "            output.set_creator(self)\n",
    "        \n",
    "        self.inputs = inputs # 입력 저장\n",
    "        self.outputs = outputs # 출력 저장\n",
    "\n",
    "        return outputs\n",
    "    \n",
    "    # 순전파\n",
    "    def forward(self, xs):\n",
    "        raise NotImplementedError()\n",
    "    \n",
    "    # 역전파\n",
    "    def backward(self, gys):\n",
    "        raise NotImplementedError()"
   ]
  },
  {
   "cell_type": "code",
   "execution_count": 5,
   "metadata": {},
   "outputs": [],
   "source": [
    "# 두 개의 입력을 받아 덧셈 수행\n",
    "class Add(Function):\n",
    "    def forward(self, xs):\n",
    "        # 입력 xs는 리스트 형태로 받아서\n",
    "        # 첫 번째 원소인 x0와 두 번째 원소인 x1을 꺼냄\n",
    "        x0, x1 = xs\n",
    "        y = x0 + x1\n",
    "        return (y, ) # 두 값을 더한 결과를 튜플 형태로 반환"
   ]
  },
  {
   "cell_type": "code",
   "execution_count": 6,
   "metadata": {},
   "outputs": [
    {
     "name": "stdout",
     "output_type": "stream",
     "text": [
      "5\n"
     ]
    }
   ],
   "source": [
    "xs = [Variable(np.array(2)), Variable(np.array(3))] # 리스트로 준비\n",
    "f = Add()\n",
    "ys = f(xs) # ys 튜플\n",
    "y = ys[0]\n",
    "print(y.data)"
   ]
  }
 ],
 "metadata": {
  "kernelspec": {
   "display_name": "school",
   "language": "python",
   "name": "python3"
  },
  "language_info": {
   "codemirror_mode": {
    "name": "ipython",
    "version": 3
   },
   "file_extension": ".py",
   "mimetype": "text/x-python",
   "name": "python",
   "nbconvert_exporter": "python",
   "pygments_lexer": "ipython3",
   "version": "3.12.2"
  }
 },
 "nbformat": 4,
 "nbformat_minor": 2
}

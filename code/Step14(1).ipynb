{
 "cells": [
  {
   "cell_type": "code",
   "execution_count": 1,
   "metadata": {},
   "outputs": [
    {
     "data": {
      "text/plain": [
       "' 제 2고지 자연스러운 코드로 '"
      ]
     },
     "execution_count": 1,
     "metadata": {},
     "output_type": "execute_result"
    }
   ],
   "source": [
    "\"\"\" 제 2고지 자연스러운 코드로 \"\"\""
   ]
  },
  {
   "cell_type": "code",
   "execution_count": 2,
   "metadata": {},
   "outputs": [],
   "source": [
    "\"\"\" STEP14. 같은 변수 반복 사용 \"\"\"\n",
    "\n",
    "\n",
    "import numpy as np\n",
    "\n",
    "# ndarray 인스턴스만 취급하고록 바꿈 ( 다른게 들어오면 오류 )\n",
    "\n",
    "# Variable이라는 상자 생성\n",
    "class Variable:\n",
    "    def __init__(self, data): # 생성자\n",
    "        # 입력 데이터가 None이 아닌 경우, \n",
    "        # 입력 데이터의 타입이 np.ndarray인지 확인\n",
    "        if data is not None:\n",
    "            if not isinstance(data, np.ndarray):\n",
    "                raise TypeError(\n",
    "                    '{}은(는) 지원하지 않습니다.'.format(type(data)))\n",
    "         \n",
    "        self.data = data # 변수의 데이터를 입력 데이터로 설정\n",
    "\n",
    "        # 변수의 기울기 초기화\n",
    "        self.grad = None # 미분값 저장하기 위한 변수\n",
    "\n",
    "        # 변수를 생성한 함수(연산) 초기화\n",
    "        self.creator = None # 연산을 나타내는 객체\n",
    "\n",
    "    # 해당 변수가 어떤 함수에 의해 만들어졌는지를 저장\n",
    "    def set_creator(self, func):\n",
    "        self.creator = func\n",
    "\n",
    "    # 역전파를 자동화 할 수 있도록 새로운 메서드 생성\n",
    "    # 반복문을 이용한 구현\n",
    "    def backward(self):\n",
    "        # y.grad = np.array(1.0) 생략을 위한 if문\n",
    "        if self.grad is None:\n",
    "            self.grad = np.ones_like(self.data)\n",
    "\n",
    "        funcs = [self.creator]# 함수를 리스트에 저장\n",
    "        while funcs:\n",
    "            f = funcs.pop() # 함수를 가져온다.\n",
    "            gys = [output.grad for output in f.outputs]\n",
    "            gxs = f.backward(*gys) # 함수 f의 역전파 호출 ( 리스트 언팩 )\n",
    "            \n",
    "            # gxs가 튜플이 아니라면 튜플로 변환\n",
    "            if not isinstance(gxs, tuple):\n",
    "                gxs = (gxs, )\n",
    "\n",
    "            # 역전파로 전파되는 미분값을 Variable인스턴스 변수 grad에 저장\n",
    "            for x, gx in zip(f.inputs, gxs): # gxs와 f.inputs는 대응\n",
    "                if x.grad is None:\n",
    "                    x.grad = gx\n",
    "                else:\n",
    "                    # x.grad += gx <- 문제 발생 ( 부록 A )\n",
    "                    x.grad = x.grad + gx\n",
    "                    \n",
    "\n",
    "                if x.creator is not None:\n",
    "                    funcs.append(x.creator)\n",
    "\n",
    "            if x.creator is not None:\n",
    "                # 하나 앞의 함수를 리스트에 추가한다.\n",
    "                funcs.append(x.creator)"
   ]
  },
  {
   "cell_type": "code",
   "execution_count": 3,
   "metadata": {},
   "outputs": [],
   "source": [
    "# 주어진 입력을 NumPy 배열로 변환하는 함수\n",
    "def as_array(x):\n",
    "    if np.isscalar(x):  # 입력이 스칼라인지 확인\n",
    "        return np.array(x)  # 스칼라인 경우, 배열로 변환하여 반환\n",
    "    return x  # 스칼라가 아닌 경우, 그대로 반환"
   ]
  },
  {
   "cell_type": "code",
   "execution_count": 4,
   "metadata": {},
   "outputs": [],
   "source": [
    "# Variable 인스턴스를 변수로 다룰 수 있는 함수를 Function클래스로 구현\n",
    "class Function:\n",
    "    # *ㅁㅁㅁ : 임의 개수의 인수 ( 가변길이 ) 를 건내 함수를 호출할 수 있음\n",
    "    def __call__(self, *inputs):\n",
    "        # 리스트 xs를 생성할 때, 리스트 내포 사용\n",
    "        # 리스트의 각 원소 x에 대해 각각 데이터 ( x.data ) 를 꺼냄\n",
    "        xs = [x.data for x in inputs]\n",
    "        \n",
    "        # forward 메서드에서 구체적인 계산을 함\n",
    "        ys = self.forward(*xs) # 리스트 언팩 ( 원소를 낱개로 풀어서 전달 )\n",
    "\n",
    "        if not isinstance(ys, tuple): # 튜플이 아닌 경우 추가 지원\n",
    "            ys = (ys, )\n",
    "\n",
    "        # ys의 각 원소에 대해 Variable 인스턴스 생성, outputs 리스트에 저장\n",
    "        outputs = [Variable(as_array(y)) for y in ys]\n",
    "\n",
    "        # 각 output Variable 인스턴스의 creator를 현재 Function 객체로 설정\n",
    "        for output in outputs:\n",
    "            output.set_creator(self)\n",
    "        \n",
    "        self.inputs = inputs # 입력 저장\n",
    "        self.outputs = outputs # 출력 저장\n",
    "\n",
    "        # 리스트의 원소가 하나라면 첫 번째 원소를 반환함\n",
    "        return outputs if len(outputs) > 1 else outputs[0]\n",
    "    \n",
    "    # 순전파\n",
    "    def forward(self, xs):\n",
    "        raise NotImplementedError()\n",
    "    \n",
    "    # 역전파\n",
    "    def backward(self, gys):\n",
    "        raise NotImplementedError()"
   ]
  },
  {
   "cell_type": "code",
   "execution_count": 5,
   "metadata": {},
   "outputs": [],
   "source": [
    "# 두 개의 입력을 받아 덧셈 수행\n",
    "class Add(Function):\n",
    "    def forward(self, x0, x1):\n",
    "        y = x0 + x1\n",
    "        return y\n",
    "    \n",
    "    def backward(self, gy):\n",
    "        return gy, gy"
   ]
  },
  {
   "cell_type": "code",
   "execution_count": 6,
   "metadata": {},
   "outputs": [],
   "source": [
    "def add(x0, x1):\n",
    "    return Add()(x0, x1)"
   ]
  },
  {
   "cell_type": "code",
   "execution_count": 7,
   "metadata": {},
   "outputs": [],
   "source": [
    "# y = x²\n",
    "class Square(Function):\n",
    "    # 순전파\n",
    "    def forward(self, x):\n",
    "        y = x ** 2 # y = x²\n",
    "        return y\n",
    "    \n",
    "    # 역전파\n",
    "    def backward(self, gy): # gy = 출력쪽에 전해지는 미분값을 전달하는 역할\n",
    "        x = self.inputs[0].data # 수정전 : x = self.input.data\n",
    "        gx = 2 * x * gy #  y' = 2x\n",
    "        return gx"
   ]
  },
  {
   "cell_type": "code",
   "execution_count": 8,
   "metadata": {},
   "outputs": [],
   "source": [
    "def square(x):\n",
    "    return Square()(x)"
   ]
  },
  {
   "cell_type": "code",
   "execution_count": 9,
   "metadata": {},
   "outputs": [
    {
     "name": "stdout",
     "output_type": "stream",
     "text": [
      "y  6.0\n",
      "x.grad 2.0\n"
     ]
    }
   ],
   "source": [
    "x = Variable(np.array(3.0))\n",
    "y = add(x, x)\n",
    "print('y ', y.data)\n",
    "\n",
    "y.backward()\n",
    "print('x.grad', x.grad) # 1이 나오는 문제 해결됨"
   ]
  },
  {
   "cell_type": "code",
   "execution_count": 10,
   "metadata": {},
   "outputs": [
    {
     "name": "stdout",
     "output_type": "stream",
     "text": [
      "x.grad 3.0\n"
     ]
    }
   ],
   "source": [
    "x = Variable(np.array(3.0))\n",
    "y = add(add(x, x), x)\n",
    "y.backward()\n",
    "print('x.grad', x.grad) "
   ]
  },
  {
   "cell_type": "code",
   "execution_count": 11,
   "metadata": {},
   "outputs": [
    {
     "name": "stdout",
     "output_type": "stream",
     "text": [
      "2.0\n",
      "5.0\n"
     ]
    }
   ],
   "source": [
    "# 첫 번째 계산\n",
    "x = Variable(np.array(3.0))\n",
    "y = add(x, x)\n",
    "y.backward()\n",
    "print(x.grad)\n",
    "\n",
    "# 두 번째 계산 ( 같은 x를 사용하여 다른 계산을 수행 )\n",
    "# Variable의 인스턴스 재사용시 문제 발생\n",
    "y = add(add(x, x), x)\n",
    "y.backward()\n",
    "print(x.grad) # 3이 나와야함"
   ]
  }
 ],
 "metadata": {
  "kernelspec": {
   "display_name": "school",
   "language": "python",
   "name": "python3"
  },
  "language_info": {
   "codemirror_mode": {
    "name": "ipython",
    "version": 3
   },
   "file_extension": ".py",
   "mimetype": "text/x-python",
   "name": "python",
   "nbconvert_exporter": "python",
   "pygments_lexer": "ipython3",
   "version": "3.12.2"
  }
 },
 "nbformat": 4,
 "nbformat_minor": 2
}

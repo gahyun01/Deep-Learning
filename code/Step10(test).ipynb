{
 "cells": [
  {
   "cell_type": "code",
   "execution_count": null,
   "metadata": {},
   "outputs": [],
   "source": [
    "\"\"\" 제 1고지 미분 자동 계산 \"\"\""
   ]
  },
  {
   "cell_type": "code",
   "execution_count": null,
   "metadata": {},
   "outputs": [],
   "source": [
    "\"\"\" STEP9. 함수를 더 편리하게 \"\"\"\n",
    "\n",
    "\n",
    "import numpy as np\n",
    "\n",
    "# ndarray 인스턴스만 취급하고록 바꿈 ( 다른게 들어오면 오류 )\n",
    "\n",
    "# Variable이라는 상자 생성\n",
    "class Variable:\n",
    "    def __init__(self, data): # 생성자\n",
    "        # 입력 데이터가 None이 아닌 경우, \n",
    "        # 입력 데이터의 타입이 np.ndarray인지 확인\n",
    "        if data is not None:\n",
    "            if not isinstance(data, np.ndarray):\n",
    "                raise TypeError(\n",
    "                    '{}은(는) 지원하지 않습니다.'.format(type(data)))\n",
    "         \n",
    "        self.data = data # 변수의 데이터를 입력 데이터로 설정\n",
    "\n",
    "        # 변수의 기울기 초기화\n",
    "        self.grad = None # 미분값 저장하기 위한 변수\n",
    "\n",
    "        # 변수를 생성한 함수(연산) 초기화\n",
    "        self.creator = None # 연산을 나타내는 객체\n",
    "\n",
    "    # 해당 변수가 어떤 함수에 의해 만들어졌는지를 저장\n",
    "    def set_creator(self, func):\n",
    "        self.creator = func\n",
    "\n",
    "    # 역전파를 자동화 할 수 있도록 새로운 메서드 생성\n",
    "    # Step7과 다른점 : 처리 효율을 개선하고 앞으로 확장을 대비\n",
    "    \"\"\" # 재귀를 사용한 구현\n",
    "        def backward(self):\n",
    "        f = self.creator # 함수를 가져온다.\n",
    "        if f is not None:\n",
    "            x = f.input # 2. 함수의 입력을 가져온다.\n",
    "\n",
    "            # 함수의 backward 메서드를 호출한다.\n",
    "            x.grad = f.backward(self.grad)\n",
    "\n",
    "            # 하나 앞 변수의 backward 메서드를 호출한다. ( 재귀 )\n",
    "            x.backward() \"\"\"\n",
    "\n",
    "    # 반복문을 이용한 구현\n",
    "    def backward(self):\n",
    "        # y.grad = np.array(1.0) 생략을 위한 if문\n",
    "        if self.grad is None:\n",
    "            self.grad = np.ones_like(self.data)\n",
    "\n",
    "        funcs = [self.creator]# 함수를 리스트에 저장\n",
    "        while funcs:\n",
    "            f = funcs.pop() # 함수를 가져온다.\n",
    "            x, y = f.input, f.output # 함수의 입출력을 가져온다.\n",
    "            x.grad = f.backward(y.grad) # backward 메서드를 호출한다.\n",
    "\n",
    "            if x.creator is not None:\n",
    "                # 하나 앞의 함수를 리스트에 추가한다.\n",
    "                funcs.append(x.creator)"
   ]
  },
  {
   "cell_type": "code",
   "execution_count": null,
   "metadata": {},
   "outputs": [],
   "source": [
    "# 주어진 입력을 NumPy 배열로 변환하는 함수\n",
    "def as_array(x):\n",
    "    if np.isscalar(x):  # 입력이 스칼라인지 확인\n",
    "        return np.array(x)  # 스칼라인 경우, 배열로 변환하여 반환\n",
    "    return x  # 스칼라가 아닌 경우, 그대로 반환"
   ]
  },
  {
   "cell_type": "code",
   "execution_count": null,
   "metadata": {},
   "outputs": [],
   "source": [
    "# Variable 인스천스를 변수로 다룰 수 있는 함수를 Function클래스로 구현\n",
    "class Function:\n",
    "    def __call__(self, input):\n",
    "        x = input.data # 데이터를 꺼냄\n",
    "        y = self.forward(x) # 구체적인 계산 == forward 메서드에서 함\n",
    "\n",
    "        # Variable 형태로 되돌림\n",
    "        output = Variable(as_array(y)) # output은 항상 ndarray가 됨 !\n",
    "        output.set_creator(self) # 출력 변수에 창조자 설정\n",
    "        self.input = input # 입력 저장\n",
    "        self.output = output # 출력 저장\n",
    "        return output\n",
    "    \n",
    "    # 순전파\n",
    "    def forward(self, x):\n",
    "        raise NotImplementedError()\n",
    "    \n",
    "    # 역전파\n",
    "    def backward(self, gy):\n",
    "        raise NotImplementedError()"
   ]
  },
  {
   "cell_type": "code",
   "execution_count": null,
   "metadata": {},
   "outputs": [],
   "source": [
    "# y = x²\n",
    "class Square(Function):\n",
    "    # 순전파\n",
    "    def forward(self, x):\n",
    "        y = x ** 2 # y = x²\n",
    "        return y\n",
    "    \n",
    "    # 역전파\n",
    "    def backward(self, gy): # gy = 출력쪽에 전해지는 미분값을 전달하는 역할\n",
    "        x = self.input.data\n",
    "        gx = 2 * x * gy #  y' = 2x\n",
    "        return gx"
   ]
  },
  {
   "cell_type": "code",
   "execution_count": null,
   "metadata": {},
   "outputs": [],
   "source": [
    "\"\"\" STEP10. 테스트 \"\"\"\n",
    "\n",
    "\n",
    "import unittest\n",
    "\n",
    "class SquareTest(unittest.TestCase):\n",
    "    def test_forward(self):\n",
    "        x = Variable(np.array(2.0))\n",
    "        y = Square(x)\n",
    "        expected = np.array(4.0)\n",
    "        self.assertEqual(y.data, expected)"
   ]
  }
 ],
 "metadata": {
  "language_info": {
   "name": "python"
  }
 },
 "nbformat": 4,
 "nbformat_minor": 2
}

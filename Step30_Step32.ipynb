{
 "cells": [
  {
   "cell_type": "code",
   "execution_count": 1,
   "metadata": {},
   "outputs": [
    {
     "data": {
      "text/plain": [
       "' 제 3고지 고차 미분 계산 '"
      ]
     },
     "execution_count": 1,
     "metadata": {},
     "output_type": "execute_result"
    }
   ],
   "source": [
    "\"\"\" 제 3고지 고차 미분 계산 \"\"\""
   ]
  },
  {
   "cell_type": "code",
   "execution_count": 2,
   "metadata": {},
   "outputs": [
    {
     "data": {
      "text/plain": [
       "' STEP30. 고차미분 ( 준비 편 ) '"
      ]
     },
     "execution_count": 2,
     "metadata": {},
     "output_type": "execute_result"
    }
   ],
   "source": [
    "\"\"\" STEP30. 고차미분 ( 준비 편 ) \"\"\""
   ]
  },
  {
   "cell_type": "code",
   "execution_count": 3,
   "metadata": {},
   "outputs": [
    {
     "data": {
      "text/plain": [
       "' STEP31. 고차미분 ( 이론 편 ) '"
      ]
     },
     "execution_count": 3,
     "metadata": {},
     "output_type": "execute_result"
    }
   ],
   "source": [
    "\"\"\" STEP31. 고차미분 ( 이론 편 ) \"\"\""
   ]
  },
  {
   "cell_type": "code",
   "execution_count": 4,
   "metadata": {},
   "outputs": [],
   "source": [
    "\"\"\" STEP32. 고차 미분 ( 구현 편 ) \"\"\"\n",
    "\n",
    "\n",
    "import numpy as np\n",
    "import contextlib\n",
    "\n",
    "class Config: # 역전파가 가능한지 여부 확인\n",
    "    enable_backprop = True\n",
    "\n",
    "\n",
    "@contextlib.contextmanager\n",
    "def using_config(name, value):\n",
    "    # 설정값을 변경하기 전에 이전 설정값을 임시로 저장\n",
    "    old_value = getattr(Config, name)\n",
    "    # 지정된 속성에 새로운 값 설정\n",
    "    setattr(Config, name, value)\n",
    "    try:\n",
    "        # 설정값을 변경한 후에 코드 블록을 실행\n",
    "        yield\n",
    "    finally:\n",
    "        # 코드 블록 실행 후에 이전 설정값을 복원\n",
    "        setattr(Config, name, old_value)\n",
    "\n",
    "class Variable:\n",
    "    __array_priority__ = 200\n",
    "\n",
    "    def __init__(self, data, name=None):\n",
    "        if data is not None:\n",
    "            if not isinstance(data, np.ndarray):\n",
    "                raise TypeError('{} is not supported'.format(type(data)))\n",
    "\n",
    "        self.data = data # 변수의 데이터를 입력 데이터로 설정\n",
    "        self.name = name # 변수 이름 저장\n",
    "        self.grad = None # 미분값 저장\n",
    "        self.creator = None # 연산을 나타내는 객체\n",
    "        self.generation = 0 # 세대 수 기록\n",
    "\n",
    "    @property\n",
    "    def shape(self): # 다차원 배열의 형상\n",
    "        return self.data.shape\n",
    "\n",
    "    @property\n",
    "    def ndim(self): # 차원 수\n",
    "        return self.data.ndim\n",
    "\n",
    "    @property\n",
    "    def size(self): # 원소 수\n",
    "        return self.data.size\n",
    "\n",
    "    @property\n",
    "    def dtype(self): # 데이터 타입\n",
    "        return self.data.dtype\n",
    "\n",
    "    def __len__(self): # 객체 수\n",
    "        return len(self.data)\n",
    "\n",
    "    def __repr__(self): # 출력 설정\n",
    "        if self.data is None:\n",
    "            return 'variable(None)'\n",
    "        p = str(self.data).replace('\\n', '\\n' + ' ' * 9)\n",
    "        return 'variable(' + p + ')'\n",
    "\n",
    "    def set_creator(self, func):\n",
    "        self.creator = func\n",
    "        # 세대를 기록함 ( 부모 세대 + 1)\n",
    "        self.generation = func.generation + 1\n",
    "\n",
    "    def cleargrad(self):\n",
    "        self.grad = None\n",
    "\n",
    "    # retain_grad=False : 중간  변수의 미분값을모두 None으로 재설정\n",
    "    def backward(self, retain_grad=False, create_graph=False):\n",
    "        # y.grad = np.array(1.0) 생략을 위한 if문\n",
    "        if self.grad is None:\n",
    "            \"\"\" Variable 인스턴스 참조 \"\"\"\n",
    "            self.grad = Variable(np.ones_like(self.data))\n",
    "\n",
    "        funcs = []\n",
    "        seen_set = set()\n",
    "\n",
    "        def add_func(f):\n",
    "            if f not in seen_set:\n",
    "                funcs.append(f)\n",
    "                seen_set.add(f)\n",
    "                funcs.sort(key=lambda x: x.generation)\n",
    "\n",
    "        add_func(self.creator)\n",
    "\n",
    "        while funcs:\n",
    "            f = funcs.pop()# 함수를 가져온다.\n",
    "            gys = [output().grad for output in f.outputs]  # output is weakref\n",
    "            gxs = f.backward(*gys) # 함수 f의 역전파 호출 ( 리스트 언팩 )\n",
    "\n",
    "            with using_config('enable_backprop', create_graph):\n",
    "                \"\"\" 메인 backward \"\"\"\n",
    "                gxs = f.backward(*gys)\n",
    "                \n",
    "                # gxs가 튜플이 아니라면 튜플로 변환\n",
    "                if not isinstance(gxs, tuple):\n",
    "                    gxs = (gxs,)\n",
    "\n",
    "                # 역전파로 전파되는 미분값을 Variable인스턴스 변수 grad에 저장\n",
    "                for x, gx in zip(f.inputs, gxs):\n",
    "                    if x.grad is None:\n",
    "                        x.grad = gx\n",
    "                    else:\n",
    "                        x.grad = x.grad + gx\n",
    "\n",
    "                    if x.creator is not None:\n",
    "                        add_func(x.creator)\n",
    "\n",
    "            # 중간 미분값 없앰\n",
    "            if not retain_grad:\n",
    "                for y in f.outputs:\n",
    "                    y().grad = None  # y is weakref <- 약한 참조"
   ]
  },
  {
   "cell_type": "code",
   "execution_count": 5,
   "metadata": {},
   "outputs": [],
   "source": [
    "import weakref\n",
    "\n",
    "# with using_config('enable_backprop', False) 대신\n",
    "def no_grad():\n",
    "    return using_config('enable_backprop', False)\n",
    "\n",
    "\n",
    "def as_variable(obj):\n",
    "    if isinstance(obj, Variable):\n",
    "        return obj\n",
    "    return Variable(obj)\n",
    "\n",
    "\n",
    "# 주어진 입력을 NumPy 배열로 변환하는 함수\n",
    "def as_array(x):\n",
    "    if np.isscalar(x):\n",
    "        return np.array(x)\n",
    "    return x\n",
    "\n",
    "\n",
    "class Function:\n",
    "    def __call__(self, *inputs):\n",
    "        inputs = [as_variable(x) for x in inputs]\n",
    "\n",
    "        xs = [x.data for x in inputs]\n",
    "        ys = self.forward(*xs) # 리스트 언팩 ( 원소를 낱개로 풀어서 전달 )\n",
    "        if not isinstance(ys, tuple):\n",
    "            ys = (ys,)\n",
    "        outputs = [Variable(as_array(y)) for y in ys]\n",
    "\n",
    "        # enable_backprop = True 일 때만 역전파 코드 실행\n",
    "        if Config.enable_backprop:\n",
    "            # 역전파 시 노드에 따라 순서를 정하는데 사용\n",
    "            self.generation = max([x.generation for x in inputs]) # 세대 설정\n",
    "\n",
    "            # 각 output Variable 인스턴스의 creator를 현재 Function 객체로 설정\n",
    "            for output in outputs:\n",
    "                output.set_creator(self) # 연결 설정\n",
    "            self.inputs = inputs # 순전파 결과값 기억\n",
    "            self.outputs = [weakref.ref(output) for output in outputs]\n",
    "\n",
    "        return outputs if len(outputs) > 1 else outputs[0]\n",
    "\n",
    "    def forward(self, xs):\n",
    "        raise NotImplementedError()\n",
    "\n",
    "    def backward(self, gys):\n",
    "        raise NotImplementedError()"
   ]
  },
  {
   "cell_type": "code",
   "execution_count": 6,
   "metadata": {},
   "outputs": [],
   "source": [
    "class Mul(Function): # 곱하기\n",
    "    def forward(self, x0, x1):\n",
    "        y = x0 * x1\n",
    "        return y\n",
    "\n",
    "    def backward(self, gy):\n",
    "        \"\"\" Variable 인스턴스인 x0, x1 가져옴 \"\"\"\n",
    "        x0, x1 = self.inputs\n",
    "        return gy * x1, gy * x0"
   ]
  },
  {
   "cell_type": "code",
   "execution_count": 7,
   "metadata": {},
   "outputs": [],
   "source": [
    "class Div(Function): # 나누기\n",
    "    def forward(self, x0, x1):\n",
    "        y = x0 / x1\n",
    "        return y\n",
    "\n",
    "    def backward(self, gy):\n",
    "        x0, x1 = self.inputs\n",
    "        gx0 = gy / x1\n",
    "        gx1 = gy * (-x0 / x1 ** 2)\n",
    "        return gx0, gx1"
   ]
  },
  {
   "cell_type": "code",
   "execution_count": 8,
   "metadata": {},
   "outputs": [],
   "source": [
    "class Pow(Function): # 거듭제곱\n",
    "    def __init__(self, c):\n",
    "        self.c = c\n",
    "\n",
    "    def forward(self, x):\n",
    "        y = x ** self.c\n",
    "        return y\n",
    "\n",
    "    def backward(self, gy):\n",
    "        x = self.inputs\n",
    "        c = self.c\n",
    "\n",
    "        gx = c * x ** (c - 1) * gy\n",
    "        return gx"
   ]
  }
 ],
 "metadata": {
  "kernelspec": {
   "display_name": "school",
   "language": "python",
   "name": "python3"
  },
  "language_info": {
   "codemirror_mode": {
    "name": "ipython",
    "version": 3
   },
   "file_extension": ".py",
   "mimetype": "text/x-python",
   "name": "python",
   "nbconvert_exporter": "python",
   "pygments_lexer": "ipython3",
   "version": "3.12.2"
  }
 },
 "nbformat": 4,
 "nbformat_minor": 2
}

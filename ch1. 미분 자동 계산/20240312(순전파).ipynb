{
 "cells": [
  {
   "cell_type": "code",
   "execution_count": 7,
   "id": "348d68b8-6700-4431-9b64-66d8c0b8e792",
   "metadata": {},
   "outputs": [],
   "source": [
    "class Variable:\n",
    "    def __init__(self, data):\n",
    "        self.data = data"
   ]
  },
  {
   "cell_type": "code",
   "execution_count": 8,
   "id": "7a6de7ef-3c66-4c4b-b4b6-14ff7ce1c7ca",
   "metadata": {},
   "outputs": [
    {
     "name": "stdout",
     "output_type": "stream",
     "text": [
      "1.0\n"
     ]
    }
   ],
   "source": [
    "import numpy as np\n",
    "\n",
    "data = np.array(1.0)\n",
    "x = Variable(data)\n",
    "print(x.data)"
   ]
  },
  {
   "cell_type": "code",
   "execution_count": 1,
   "id": "1e7e6b97-71b1-4755-980a-51f9fcbafc1e",
   "metadata": {},
   "outputs": [],
   "source": [
    "class Function:\n",
    "    def __call__(self, input):\n",
    "        x = input.data   # 데이터를 꺼낸다.\n",
    "        y = x**2   # 실제 계산\n",
    "        output = Variable(y)   # Variable 형태로 되돌린다.\n",
    "        return output"
   ]
  },
  {
   "cell_type": "code",
   "execution_count": 10,
   "id": "3de5bea3-471d-4a46-a367-72a4b1634899",
   "metadata": {},
   "outputs": [
    {
     "name": "stdout",
     "output_type": "stream",
     "text": [
      "<class '__main__.Variable'>\n",
      "100\n"
     ]
    }
   ],
   "source": [
    "x = Variable(np.array(10))\n",
    "f = Function()\n",
    "y = f(x)\n",
    "\n",
    "print(type(y))\n",
    "print(y.data)"
   ]
  },
  {
   "cell_type": "code",
   "execution_count": 2,
   "id": "0e9f77c0-6960-4c6c-a185-faa296fcda73",
   "metadata": {},
   "outputs": [],
   "source": [
    "class Function:\n",
    "    def __call__(self, input):\n",
    "        x = input.data\n",
    "        y = self.forward(x)\n",
    "        output = Variable(y)   # 구체적인 계산은 forward 메서드에서 한다.\n",
    "        return output\n",
    "\n",
    "    def forward(self, in_data):\n",
    "        raise Error"
   ]
  },
  {
   "cell_type": "code",
   "execution_count": 14,
   "id": "03c4eafa-b8ab-415e-950a-dd95fd4943f0",
   "metadata": {},
   "outputs": [],
   "source": [
    "class Square(Function):\n",
    "    def forward(self, x):\n",
    "        return x**2"
   ]
  },
  {
   "cell_type": "code",
   "execution_count": null,
   "id": "03437435-d0ae-43fa-bcc0-095fdff541e7",
   "metadata": {},
   "outputs": [],
   "source": [
    "class Exp(Function):\n",
    "    def forward(self, x):\n",
    "        return np.exp(x)"
   ]
  },
  {
   "cell_type": "code",
   "execution_count": null,
   "id": "c18e6f9f-8c7b-4724-b688-6d79aa086129",
   "metadata": {},
   "outputs": [],
   "source": [
    "A = Square()\n",
    "B = Exp()\n",
    "C = Square()\n",
    "\n",
    "x = Variable(np.array(0.5))\n",
    "a = A(x)\n",
    "b = B(a)\n",
    "c = C(b)"
   ]
  },
  {
   "cell_type": "code",
   "execution_count": null,
   "id": "b5129d5a-5c95-468e-bc8e-9d9f5134fac3",
   "metadata": {},
   "outputs": [],
   "source": [
    "def numerical_diff(f, x, eps=1e-4):\n",
    "    x0 = Variable(x.data - eps)\n",
    "    x1 = Variable(x.data + eps)\n",
    "    y0 = f(x0)\n",
    "    y1 = f(x1)\n",
    "    return (y1.data -y0.data) / (2 * eps)"
   ]
  },
  {
   "cell_type": "code",
   "execution_count": 15,
   "id": "2626b2fe-f459-4a1d-9c0d-a90d0b9e4ea2",
   "metadata": {},
   "outputs": [
    {
     "name": "stdout",
     "output_type": "stream",
     "text": [
      "<class '__main__.Variable'>\n",
      "100\n"
     ]
    }
   ],
   "source": [
    "x = Variable(np.array(10))\n",
    "f = Square()\n",
    "y = f(x)\n",
    "\n",
    "print(type(y))\n",
    "print(y.data)"
   ]
  }
 ],
 "metadata": {
  "kernelspec": {
   "display_name": "Python 3 (ipykernel)",
   "language": "python",
   "name": "python3"
  },
  "language_info": {
   "codemirror_mode": {
    "name": "ipython",
    "version": 3
   },
   "file_extension": ".py",
   "mimetype": "text/x-python",
   "name": "python",
   "nbconvert_exporter": "python",
   "pygments_lexer": "ipython3",
   "version": "3.11.7"
  }
 },
 "nbformat": 4,
 "nbformat_minor": 5
}

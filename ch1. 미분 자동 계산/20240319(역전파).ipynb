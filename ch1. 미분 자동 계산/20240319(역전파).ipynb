{
 "cells": [
  {
   "cell_type": "code",
   "execution_count": 1,
   "id": "a05d6bc0-6efd-4798-a6bb-ad5420e7180a",
   "metadata": {},
   "outputs": [],
   "source": [
    "import numpy as np\n",
    "# 역전파\n",
    "class Variable:\n",
    "    def __init__(self, data):\n",
    "        self.data = data\n",
    "        self.grad = None"
   ]
  },
  {
   "cell_type": "code",
   "execution_count": 2,
   "id": "5bd44e8a-b0c8-46b4-8555-ee51caff5279",
   "metadata": {},
   "outputs": [],
   "source": [
    "class Function:\n",
    "    def __call__(self, input):\n",
    "        x = input.data\n",
    "        y = self.forward(x)\n",
    "        output = Variable(y)\n",
    "        self.input = input   # 입력 변수를 기억 ( 보관 )\n",
    "        return output\n",
    "        \n",
    "def forward(self, x):\n",
    "        raise NotImplementedError()\n",
    "\n",
    "def backward(self, gy):\n",
    "        raise NotImplementedError()"
   ]
  },
  {
   "cell_type": "code",
   "execution_count": 3,
   "id": "837536ac-467f-40fd-a457-8e9ffd07bcc9",
   "metadata": {},
   "outputs": [],
   "source": [
    "class Square(Function):\n",
    "    def forward(self, x):\n",
    "        y = x ** 2\n",
    "        return y\n",
    "\n",
    "    def backward(self, gy):\n",
    "        x = self.input.data\n",
    "        gx = 2 * x * gy\n",
    "        return gx"
   ]
  },
  {
   "cell_type": "code",
   "execution_count": 4,
   "id": "60b3be42-8d6d-43b2-a08f-186804915ca7",
   "metadata": {},
   "outputs": [],
   "source": [
    "class Exp(Function):\n",
    "    def forward(self, x):\n",
    "        y = np.exp(x)\n",
    "        return y\n",
    "\n",
    "    def backward(self, gy):\n",
    "        x = self.input.data\n",
    "        gx = np.exp(x) * gy\n",
    "        return gx"
   ]
  },
  {
   "cell_type": "code",
   "execution_count": 5,
   "id": "b928b7f2-ab01-490b-bb33-314425b9179a",
   "metadata": {},
   "outputs": [],
   "source": [
    "# y = (eˣ²)² 순전파 코드\n",
    "A = Square()\n",
    "B = Exp()\n",
    "C = Square()\n",
    "\n",
    "x = Variable(np.array(0.5))\n",
    "a = A(x)\n",
    "b = B(a)\n",
    "y = C(b)"
   ]
  },
  {
   "cell_type": "code",
   "execution_count": 6,
   "id": "e77a9a4b-b469-4f87-889e-f57640d59524",
   "metadata": {},
   "outputs": [
    {
     "name": "stdout",
     "output_type": "stream",
     "text": [
      "3.297442541400256\n"
     ]
    }
   ],
   "source": [
    "# y의 x에 대한 미분 결과\n",
    "y.grad = np.array(1.0)\n",
    "b.grad = C.backward(y.grad)\n",
    "a.grad = B.backward(b.grad)\n",
    "x.grad = A.backward(a.grad)\n",
    "print(x.grad)"
   ]
  },
  {
   "cell_type": "code",
   "execution_count": 7,
   "id": "42a3f761-1c5f-4c03-8fd1-2e4d81cd8c17",
   "metadata": {},
   "outputs": [],
   "source": [
    "import numpy as np\n",
    "# 역전파 자동화\n",
    "# 연산 그래프의 노드\n",
    "class Variable:\n",
    "    def __init__(self, data):\n",
    "        self.data = data # 변수의 값 == data\n",
    "        self.grad = None # 역전파 시 기울기 ( gradient )\n",
    "        self.creator = None # 해당 변수를 생성한 함수 저장\n",
    "\n",
    "    # 해당 변수를 생성한 함수 저장\n",
    "    def set_creator(self, func):\n",
    "        self.creator = func"
   ]
  },
  {
   "cell_type": "code",
   "execution_count": 8,
   "id": "ac7d8623-99f0-41c8-b2dc-ddaf32584186",
   "metadata": {},
   "outputs": [],
   "source": [
    "# 그래프의 엣지 ( Edge ) == 노드와 오드 사이를 연결하는 선\n",
    "class Function:\n",
    "    # 입력 변수를 받아 순전파 수행, 순전파 결과를 새로운 Variable 객체로 감싸서 반환\n",
    "    def __call__(self, input):\n",
    "        x = input.data\n",
    "        y = self.forward(x)\n",
    "        output = Variable(y) # 순전파를 수행할 때, 출력 Variable객체에 해당하는 함수를 생성자로 설정하는 부분\n",
    "        output.set_creator(self)   # 출력 변수에 창조자 설정\n",
    "        self.input = input   # 입력 변수를 기억 ( 보관 )\n",
    "        self.output = output   # 출력도 저장\n",
    "        return output"
   ]
  },
  {
   "cell_type": "code",
   "execution_count": 9,
   "id": "c36088f0-19c3-415d-91ba-c937ea63b5f0",
   "metadata": {},
   "outputs": [],
   "source": [
    "class Square(Function):\n",
    "    def forward(self, x):\n",
    "        y = x ** 2\n",
    "        return y\n",
    "\n",
    "    def backward(self, gy):\n",
    "        x = self.input.data\n",
    "        gx = 2 * x * gy\n",
    "        return gx\n",
    "\n",
    "class Exp(Function):\n",
    "    def forward(self, x):\n",
    "        y = np.exp(x)\n",
    "        return y\n",
    "\n",
    "    def backward(self, gy):\n",
    "        x = self.input.data\n",
    "        gx = np.exp(x) * gy\n",
    "        return gx"
   ]
  },
  {
   "cell_type": "code",
   "execution_count": 10,
   "id": "8b2bde86-b6bc-4fb5-b5f0-9a99e2b7b64e",
   "metadata": {},
   "outputs": [],
   "source": [
    "A = Square()\n",
    "B = Exp()\n",
    "C = Square()\n",
    "\n",
    "x = Variable(np.array(0.5))\n",
    "a = A(x)\n",
    "b = B(a)\n",
    "y = C(b)\n",
    "\n",
    "# 계산 그래프르이 노드들을 거꾸로 거슬러 올라감\n",
    "assert y.creator == C\n",
    "assert y.creator.input == b\n",
    "assert y.creator.input.creator == B\n",
    "assert y.creator.input.creator.input == a\n",
    "assert y.creator.input.creator.input.creator == A\n",
    "assert y.creator.input.creator.input.creator.input == x"
   ]
  },
  {
   "cell_type": "code",
   "execution_count": 11,
   "id": "b58b97bb-eef9-4402-8d07-84be39fc9a4b",
   "metadata": {},
   "outputs": [],
   "source": [
    "# 역전파 순서 코드\n",
    "y.grad = np.array(1.0)   # dy / dy라 무조건 1임\n",
    "\n",
    "C = y.creator   # 1. 함수를 가져온다.\n",
    "b = C.input   # 2. 함수의 입력을 가져온다.\n",
    "b.grad = C.backward(y.grad)   # 3. 함수의 backward 메서드를 호출한다"
   ]
  },
  {
   "cell_type": "code",
   "execution_count": 12,
   "id": "f48ac368-7596-4afe-b917-799eff501aab",
   "metadata": {},
   "outputs": [],
   "source": [
    "B = b.creator   # 1. 함수를 가져온다.\n",
    "a = B.input   #2. 함수의 입력을 가져온다.\n",
    "a.grad = B.backward(b.grad)   #3. 함수의 backward 메서드를 호출한다."
   ]
  },
  {
   "cell_type": "code",
   "execution_count": 13,
   "id": "2b0e4d65-92a8-48f2-88b3-86032abce7f6",
   "metadata": {},
   "outputs": [
    {
     "name": "stdout",
     "output_type": "stream",
     "text": [
      "3.297442541400256\n"
     ]
    }
   ],
   "source": [
    "b.grad = C.backward(y.grad)\n",
    "a.grad = B.backward(b.grad)\n",
    "x.grad = A.backward(a.grad)\n",
    "print(x.grad)"
   ]
  },
  {
   "cell_type": "code",
   "execution_count": 14,
   "id": "0d7a876f-a730-4a05-a87f-b401a1c3fb6e",
   "metadata": {},
   "outputs": [],
   "source": [
    "class Variable:\n",
    "    def __init__(self, data):\n",
    "        self.data = data\n",
    "        self.grad = None\n",
    "        self.creator = None\n",
    "\n",
    "    def set_creator(self, func):\n",
    "        self.creator = func\n",
    "\n",
    "    def backward(self):\n",
    "        f = self.creator   # 1. 함수를 가져온다.\n",
    "        if f is not None:\n",
    "            x = f.input   # 2. 함수의 입력을 가져온다.\n",
    "            x.grad = f.backward(self.grad)   # 3. 함수의 backward 메서드를 호출한다.\n",
    "            x.backward()   # 하나 앞 변수의 backward 메서드를 호줄한다. ( 재귀 )"
   ]
  },
  {
   "cell_type": "code",
   "execution_count": 15,
   "id": "d679b047-1a09-495c-a3a6-7cd6a2a44058",
   "metadata": {},
   "outputs": [
    {
     "name": "stdout",
     "output_type": "stream",
     "text": [
      "3.297442541400256\n"
     ]
    }
   ],
   "source": [
    "A = Square()\n",
    "B = Exp()\n",
    "C = Square()\n",
    "\n",
    "x = Variable(np.array(0.5))\n",
    "a = A(x)\n",
    "b = B(a)\n",
    "y = C(b)\n",
    "\n",
    "# 역전파\n",
    "y.grad = np.array(1.0)\n",
    "y.backward()\n",
    "print(x.grad)"
   ]
  },
  {
   "cell_type": "code",
   "execution_count": 16,
   "id": "ff196767",
   "metadata": {},
   "outputs": [],
   "source": [
    "# Step 8. 재귀에서 반복문으로\n",
    "# ‘재귀를 사용한 구현’을 ‘반복문을 이용한 구현’으로 수정"
   ]
  },
  {
   "cell_type": "code",
   "execution_count": 17,
   "id": "4031bcf8",
   "metadata": {},
   "outputs": [],
   "source": [
    "class Variable:\n",
    "    def __init__(self, data):\n",
    "        self.data = data\n",
    "        self.grad = None\n",
    "        self.creator = None\n",
    "\n",
    "    def set_creator(self, func):\n",
    "        self.creator = func\n",
    "\n",
    "    def backward(self):\n",
    "        funcs = [self.creator]\n",
    "        while funcs:\n",
    "            f = funcs.pop()   # 함수를 가져온다.\n",
    "            x, y = f.input, f.output   # 입력과 출력을 가져온다.\n",
    "            x.grad = f.backward(y.grad)   # backward 메서드를 호출한다.\n",
    "            \n",
    "            if x.creator is not None:\n",
    "                funcs.append(x.creator) # 얻은 입력 변수로 하나 앞의 함수를 리스트에 추가한다."
   ]
  },
  {
   "cell_type": "code",
   "execution_count": 18,
   "id": "995507b2",
   "metadata": {},
   "outputs": [
    {
     "name": "stdout",
     "output_type": "stream",
     "text": [
      "3.297442541400256\n"
     ]
    }
   ],
   "source": [
    "A = Square()\n",
    "B = Exp()\n",
    "C = Square()\n",
    "\n",
    "x = Variable(np.array(0.5))\n",
    "a = A(x)\n",
    "b = B(a)\n",
    "y = C(b)\n",
    "\n",
    "# 역전파\n",
    "y.grad = np.array(1.0)\n",
    "y.backward()\n",
    "print(x.grad)"
   ]
  },
  {
   "cell_type": "code",
   "execution_count": 19,
   "id": "65854978",
   "metadata": {},
   "outputs": [],
   "source": [
    "# Step 9. 함수를 더 편리하게"
   ]
  },
  {
   "cell_type": "code",
   "execution_count": 20,
   "id": "ef99d4e6",
   "metadata": {},
   "outputs": [
    {
     "data": {
      "text/plain": [
       "'def square(x):\\n    return Square()(x) \\n\\ndef exp(x):\\n    return Exp()(x)'"
      ]
     },
     "execution_count": 20,
     "metadata": {},
     "output_type": "execute_result"
    }
   ],
   "source": [
    "def square(x):\n",
    "    # Square 클래스의 인스턴스를 생성합니다.\n",
    "    f = Square()\n",
    "    \n",
    "    # 생성된 Square 클래스의 인스턴스를 호출하여 입력값 x의 제곱을 계산합니다.\n",
    "    return f(x)\n",
    "\n",
    "def exp(x):\n",
    "    # Exp 클래스의 인스턴스를 생성합니다.\n",
    "    f = Exp()\n",
    "    \n",
    "    # 생성된 Exp 클래스의 인스턴스를 호출하여 입력값 x의 지수를 계산합니다.\n",
    "    return f(x)\n",
    "\n",
    "# 한 줄로 작성\n",
    "\"\"\"def square(x):\n",
    "    return Square()(x) \n",
    "\n",
    "def exp(x):\n",
    "    return Exp()(x)\"\"\""
   ]
  },
  {
   "cell_type": "code",
   "execution_count": 21,
   "id": "23a247f3",
   "metadata": {},
   "outputs": [
    {
     "name": "stdout",
     "output_type": "stream",
     "text": [
      "3.297442541400256\n"
     ]
    }
   ],
   "source": [
    "x = Variable(np.array(0.5))\n",
    "a = square(x)\n",
    "b = exp(a)\n",
    "y = square(b)\n",
    "\n",
    "y.grad = np.array(1.0)\n",
    "y.backward()\n",
    "print(x.grad)"
   ]
  },
  {
   "cell_type": "code",
   "execution_count": 22,
   "id": "c4b504dc",
   "metadata": {},
   "outputs": [
    {
     "name": "stdout",
     "output_type": "stream",
     "text": [
      "3.297442541400256\n"
     ]
    }
   ],
   "source": [
    "x = Variable(np.array(0.5))\n",
    "y = square(exp(square(x))) # 연속하여 적용\n",
    "y.grad = np.array(1.0)\n",
    "y.backward()\n",
    "print(x.grad)"
   ]
  },
  {
   "cell_type": "code",
   "execution_count": 23,
   "id": "ce634696",
   "metadata": {},
   "outputs": [],
   "source": [
    "class Variable:\n",
    "    def __init__(self, data):\n",
    "        self.data = data\n",
    "        self.grad = None\n",
    "        self.creator = None\n",
    "\n",
    "    def set_creator(self, func):\n",
    "        self.creator = func\n",
    "\n",
    "    def backward(self):\n",
    "        \n",
    "        # Variable 클래스의 grad 속성이 None일 경우, 해당 변수의 미분값을 1로 설정\n",
    "        if self.grad is None:\n",
    "            # y.grad = np.array(1.0)을 대신함\n",
    "            self.grad = np.ones_like(self.data)\n",
    "\n",
    "        funcs = [self.creator]\n",
    "        while funcs:\n",
    "            f = funcs.pop()   # 함수를 가져온다.\n",
    "            x, y = f.input, f.output   # 입력과 출력을 가져온다.\n",
    "            x.grad = f.backward(y.grad)   # backward 메서드를 호출한다.\n",
    "            \n",
    "            if x.creator is not None:\n",
    "                funcs.append(x.creator) # 얻은 입력 변수로 하나 앞의 함수를 리스트에 추가한다."
   ]
  },
  {
   "cell_type": "code",
   "execution_count": 24,
   "id": "4c0ed128",
   "metadata": {},
   "outputs": [
    {
     "name": "stdout",
     "output_type": "stream",
     "text": [
      "3.297442541400256\n"
     ]
    }
   ],
   "source": [
    "x = Variable(np.array(0.5))\n",
    "y = square(exp(square(x))) # 연속하여 적용\n",
    "y.backward()\n",
    "print(x.grad)"
   ]
  },
  {
   "cell_type": "code",
   "execution_count": 25,
   "id": "b09c817a",
   "metadata": {},
   "outputs": [],
   "source": [
    "class Variable:\n",
    "    def __init__(self, data):\n",
    "        # 입력 데이터가 None이 아닌 경우, 입력 데이터의 타입이 np.ndarray인지 확인\n",
    "        if data is not None:\n",
    "            if not isinstance(data, np.ndarray):\n",
    "                raise TypeError('{}은(는) 지원하지 않습니다.'.format(type(data)))\n",
    "            \n",
    "        # 변수의 데이터를 입력 데이터로 설정\n",
    "        self.data = data\n",
    "        # 변수의 기울기 초기화\n",
    "        self.grad = None\n",
    "        # 변수를 생성한 함수(연산) 초기화\n",
    "        self.creator = None"
   ]
  },
  {
   "cell_type": "code",
   "execution_count": 26,
   "id": "cc4aed8b",
   "metadata": {},
   "outputs": [],
   "source": [
    "x = Variable(np.array(1.0)) # 올바른 예\n",
    "x = Variable(None) # 올바른 예\n",
    "\n",
    "# x = Variable(1.0) # 잘못된 예 ( 오류 발생 )"
   ]
  },
  {
   "cell_type": "code",
   "execution_count": 27,
   "id": "92cbe3b1",
   "metadata": {},
   "outputs": [
    {
     "name": "stdout",
     "output_type": "stream",
     "text": [
      "<class 'numpy.ndarray'> 1\n",
      "<class 'numpy.ndarray'>\n"
     ]
    }
   ],
   "source": [
    "x = np.array([1.0]) #  NumPy 배열 x를 생성하여 값 [1.0]으로 초기화\n",
    "y = x ** 2\n",
    "\n",
    "print(type(x), x.ndim) # x의 자료형과 차원을 출력\n",
    "print(type(y)) # y의 자료형을 출력"
   ]
  },
  {
   "cell_type": "code",
   "execution_count": 28,
   "id": "804e8f1b",
   "metadata": {},
   "outputs": [
    {
     "name": "stdout",
     "output_type": "stream",
     "text": [
      "<class 'numpy.ndarray'> 0\n",
      "<class 'numpy.float64'>\n"
     ]
    }
   ],
   "source": [
    "x = np.array(1.0) # 0차원 배열 ndarray\n",
    "y = x ** 2\n",
    "print(type(x), x.ndim)\n",
    "print(type(y)) # np.float64"
   ]
  },
  {
   "cell_type": "code",
   "execution_count": 29,
   "id": "bc98fb84",
   "metadata": {},
   "outputs": [],
   "source": [
    "# 주어진 입력을 NumPy 배열로 변환하는 함수\n",
    "def as_array(x):\n",
    "    if np.isscalar(x):  # 입력이 스칼라인지 확인\n",
    "        return np.array(x)  # 스칼라인 경우, 배열로 변환하여 반환\n",
    "    return x  # 스칼라가 아닌 경우, 그대로 반환"
   ]
  },
  {
   "cell_type": "code",
   "execution_count": 30,
   "id": "69a5a37f",
   "metadata": {},
   "outputs": [],
   "source": [
    "class Function:\n",
    "    def __call__(self, input):\n",
    "        x = input.data\n",
    "        y = self.forward(x) # forward 메서드에서 정의된 대로 계산 수행\n",
    "        # as_array 함수를 사용하여 NumPy 배열로 변환\n",
    "        output = Variable(as_array(y))\n",
    "        # 출력값이 함수에 의해 계산되었다는 정보를 저장\n",
    "        output.set_creator(self)\n",
    "        self.input = input\n",
    "        self.output = output\n",
    "        return output"
   ]
  }
 ],
 "metadata": {
  "kernelspec": {
   "display_name": "Python 3 (ipykernel)",
   "language": "python",
   "name": "python3"
  },
  "language_info": {
   "codemirror_mode": {
    "name": "ipython",
    "version": 3
   },
   "file_extension": ".py",
   "mimetype": "text/x-python",
   "name": "python",
   "nbconvert_exporter": "python",
   "pygments_lexer": "ipython3",
   "version": "3.11.3"
  }
 },
 "nbformat": 4,
 "nbformat_minor": 5
}

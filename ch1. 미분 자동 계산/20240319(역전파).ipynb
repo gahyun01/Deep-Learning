{
 "cells": [
  {
   "cell_type": "code",
   "execution_count": 1,
   "id": "a05d6bc0-6efd-4798-a6bb-ad5420e7180a",
   "metadata": {},
   "outputs": [],
   "source": [
    "import numpy as np\n",
    "# 역전파\n",
    "class Variable:\n",
    "    def __init__(self, data):\n",
    "        self.data = data\n",
    "        self.grad = None"
   ]
  },
  {
   "cell_type": "code",
   "execution_count": 2,
   "id": "5bd44e8a-b0c8-46b4-8555-ee51caff5279",
   "metadata": {},
   "outputs": [],
   "source": [
    "class Function:\n",
    "    def __call__(self, input):\n",
    "        x = input.data\n",
    "        y = self.forward(x)\n",
    "        output = Variable(y)\n",
    "        self.input = input   # 입력 변수를 기억 ( 보관 )\n",
    "        return output\n",
    "        \n",
    "def forward(self, x):\n",
    "        raise NotImplementedError()\n",
    "\n",
    "def backward(self, gy):\n",
    "        raise NotImplementedError()"
   ]
  },
  {
   "cell_type": "code",
   "execution_count": 3,
   "id": "837536ac-467f-40fd-a457-8e9ffd07bcc9",
   "metadata": {},
   "outputs": [],
   "source": [
    "class Square(Function):\n",
    "    def forward(self, x):\n",
    "        y = x ** 2\n",
    "        return y\n",
    "\n",
    "    def backward(self, gy):\n",
    "        x = self.input.data\n",
    "        gx = 2 * x * gy\n",
    "        return gx"
   ]
  },
  {
   "cell_type": "code",
   "execution_count": 4,
   "id": "60b3be42-8d6d-43b2-a08f-186804915ca7",
   "metadata": {},
   "outputs": [],
   "source": [
    "class Exp(Function):\n",
    "    def forward(self, x):\n",
    "        y = np.exp(x)\n",
    "        return y\n",
    "\n",
    "    def backward(self, gy):\n",
    "        x = self.input.data\n",
    "        gx = np.exp(x) * gy\n",
    "        return gx"
   ]
  },
  {
   "cell_type": "code",
   "execution_count": 5,
   "id": "b928b7f2-ab01-490b-bb33-314425b9179a",
   "metadata": {},
   "outputs": [],
   "source": [
    "# y = (eˣ²)² 순전파 코드\n",
    "A = Square()\n",
    "B = Exp()\n",
    "C = Square()\n",
    "\n",
    "x = Variable(np.array(0.5))\n",
    "a = A(x)\n",
    "b = B(a)\n",
    "y = C(b)"
   ]
  },
  {
   "cell_type": "code",
   "execution_count": 6,
   "id": "e77a9a4b-b469-4f87-889e-f57640d59524",
   "metadata": {},
   "outputs": [
    {
     "name": "stdout",
     "output_type": "stream",
     "text": [
      "3.297442541400256\n"
     ]
    }
   ],
   "source": [
    "# y의 x에 대한 미분 결과\n",
    "y.grad = np.array(1.0)\n",
    "b.grad = C.backward(y.grad)\n",
    "a.grad = B.backward(b.grad)\n",
    "x.grad = A.backward(a.grad)\n",
    "print(x.grad)"
   ]
  },
  {
   "cell_type": "code",
   "execution_count": 7,
   "id": "42a3f761-1c5f-4c03-8fd1-2e4d81cd8c17",
   "metadata": {},
   "outputs": [],
   "source": [
    "import numpy as np\n",
    "# 역전파 자동화\n",
    "class Variable:\n",
    "    def __init__(self, data):\n",
    "        self.data = data\n",
    "        self.grad = None\n",
    "        self.creator = None\n",
    "\n",
    "    def set_creator(self, func):\n",
    "        self.creator = func"
   ]
  },
  {
   "cell_type": "code",
   "execution_count": 8,
   "id": "ac7d8623-99f0-41c8-b2dc-ddaf32584186",
   "metadata": {},
   "outputs": [],
   "source": [
    "class Function:\n",
    "    def __call__(self, input):\n",
    "        x = input.data\n",
    "        y = self.forward(x)\n",
    "        output = Variable(y)\n",
    "        output.set_creator(self)   # 출력 변수에 창조자 성정\n",
    "        self.input = input   # 입력 변수를 기억 ( 보관 )\n",
    "        self.output = output   # 출력도 저장\n",
    "        return output"
   ]
  },
  {
   "cell_type": "code",
   "execution_count": 9,
   "id": "c36088f0-19c3-415d-91ba-c937ea63b5f0",
   "metadata": {},
   "outputs": [],
   "source": [
    "class Square(Function):\n",
    "    def forward(self, x):\n",
    "        y = x ** 2\n",
    "        return y\n",
    "\n",
    "    def backward(self, gy):\n",
    "        x = self.input.data\n",
    "        gx = 2 * x * gy\n",
    "        return gx\n",
    "\n",
    "class Exp(Function):\n",
    "    def forward(self, x):\n",
    "        y = np.exp(x)\n",
    "        return y\n",
    "\n",
    "    def backward(self, gy):\n",
    "        x = self.input.data\n",
    "        gx = np.exp(x) * gy\n",
    "        return gx"
   ]
  },
  {
   "cell_type": "code",
   "execution_count": 10,
   "id": "8b2bde86-b6bc-4fb5-b5f0-9a99e2b7b64e",
   "metadata": {},
   "outputs": [],
   "source": [
    "A = Square()\n",
    "B = Exp()\n",
    "C = Square()\n",
    "\n",
    "x = Variable(np.array(0.5))\n",
    "a = A(x)\n",
    "b = B(a)\n",
    "y = C(b)\n",
    "\n",
    "# 계산 그래프르이 노드들을 거꾸로 거슬러 올라감\n",
    "assert y.creator == C\n",
    "assert y.creator.input == b\n",
    "assert y.creator.input.creator == B\n",
    "assert y.creator.input.creator.input == a\n",
    "assert y.creator.input.creator.input.creator == A\n",
    "assert y.creator.input.creator.input.creator.input == x"
   ]
  },
  {
   "cell_type": "code",
   "execution_count": 11,
   "id": "b58b97bb-eef9-4402-8d07-84be39fc9a4b",
   "metadata": {},
   "outputs": [],
   "source": [
    "y.grad = np.array(1.0)   # dy / dy라 무조건 1임\n",
    "\n",
    "C = y.creator   # 1. 함수를 가져온다.\n",
    "b = C.input   # 2. 함수의 입력을 가져온다.\n",
    "b.grad = C.backward(y.grad)   # 3. 함수의 backward 메서드를 호출한다"
   ]
  },
  {
   "cell_type": "code",
   "execution_count": 12,
   "id": "f48ac368-7596-4afe-b917-799eff501aab",
   "metadata": {},
   "outputs": [],
   "source": [
    "B = b.creator   # 1. 함수를 가져온다.\n",
    "a = B.input   #2. 함수의 입력을 가져온다.\n",
    "a.grad = B.backward(b.grad)   #3. 함수의 backward 메서드를 호출한다."
   ]
  },
  {
   "cell_type": "code",
   "execution_count": 13,
   "id": "2b0e4d65-92a8-48f2-88b3-86032abce7f6",
   "metadata": {},
   "outputs": [
    {
     "name": "stdout",
     "output_type": "stream",
     "text": [
      "3.297442541400256\n"
     ]
    }
   ],
   "source": [
    "b.grad = C.backward(y.grad)\n",
    "a.grad = B.backward(b.grad)\n",
    "x.grad = A.backward(a.grad)\n",
    "print(x.grad)"
   ]
  },
  {
   "cell_type": "code",
   "execution_count": 14,
   "id": "0d7a876f-a730-4a05-a87f-b401a1c3fb6e",
   "metadata": {},
   "outputs": [],
   "source": [
    "class Variable:\n",
    "    def __init__(self, data):\n",
    "        self.data = data\n",
    "        self.grad = None\n",
    "        self.creator = None\n",
    "\n",
    "    def set_creator(self, func):\n",
    "        self.creator = func\n",
    "\n",
    "    def backward(self):\n",
    "        # f = self.creator\n",
    "        # if f is not None:\n",
    "        #     x = f.input\n",
    "        #     x.grad = f.backward(self.grad)\n",
    "        #     x.backward()\n",
    "        f = self.creator   # 1. 함수를 가져온다.\n",
    "        if f is not None:\n",
    "            x = f.input   # 2. 함수의 입력을 가져온다.\n",
    "            x.grad = f.backward(self.grad)   # 3. 함수의 backward 메서드를 호출한다.\n",
    "            x.backward()   # 하나 앞 변수의 backward 메서드를 호줄한다. ( 재귀 )"
   ]
  },
  {
   "cell_type": "code",
   "execution_count": 15,
   "id": "d679b047-1a09-495c-a3a6-7cd6a2a44058",
   "metadata": {},
   "outputs": [
    {
     "name": "stdout",
     "output_type": "stream",
     "text": [
      "3.297442541400256\n"
     ]
    }
   ],
   "source": [
    "A = Square()\n",
    "B = Exp()\n",
    "C = Square()\n",
    "\n",
    "x = Variable(np.array(0.5))\n",
    "a = A(x)\n",
    "b = B(a)\n",
    "y = C(b)\n",
    "\n",
    "# 역전파\n",
    "y.grad = np.array(1.0)\n",
    "y.backward()\n",
    "print(x.grad)"
   ]
  }
 ],
 "metadata": {
  "kernelspec": {
   "display_name": "Python 3 (ipykernel)",
   "language": "python",
   "name": "python3"
  },
  "language_info": {
   "codemirror_mode": {
    "name": "ipython",
    "version": 3
   },
   "file_extension": ".py",
   "mimetype": "text/x-python",
   "name": "python",
   "nbconvert_exporter": "python",
   "pygments_lexer": "ipython3",
   "version": "3.11.7"
  }
 },
 "nbformat": 4,
 "nbformat_minor": 5
}
